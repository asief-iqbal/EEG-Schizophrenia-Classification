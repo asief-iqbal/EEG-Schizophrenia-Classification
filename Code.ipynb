{
  "cells": [
    {
      "cell_type": "markdown",
      "metadata": {
        "id": "fogINhSWAYex"
      },
      "source": [
        "# Library import and file tracing"
      ]
    },
    {
      "cell_type": "code",
      "execution_count": null,
      "metadata": {
        "colab": {
          "base_uri": "https://localhost:8080/"
        },
        "id": "jLHyCyMAL_tC",
        "outputId": "7abd2ef7-e800-4011-eb9e-aab8d48be95c"
      },
      "outputs": [
        {
          "output_type": "stream",
          "name": "stdout",
          "text": [
            "Requirement already satisfied: mne in /usr/local/lib/python3.10/dist-packages (1.6.0)\n",
            "Requirement already satisfied: numpy>=1.21.2 in /usr/local/lib/python3.10/dist-packages (from mne) (1.23.5)\n",
            "Requirement already satisfied: scipy>=1.7.1 in /usr/local/lib/python3.10/dist-packages (from mne) (1.11.4)\n",
            "Requirement already satisfied: matplotlib>=3.5.0 in /usr/local/lib/python3.10/dist-packages (from mne) (3.7.1)\n",
            "Requirement already satisfied: tqdm in /usr/local/lib/python3.10/dist-packages (from mne) (4.66.1)\n",
            "Requirement already satisfied: pooch>=1.5 in /usr/local/lib/python3.10/dist-packages (from mne) (1.8.0)\n",
            "Requirement already satisfied: decorator in /usr/local/lib/python3.10/dist-packages (from mne) (4.4.2)\n",
            "Requirement already satisfied: packaging in /usr/local/lib/python3.10/dist-packages (from mne) (23.2)\n",
            "Requirement already satisfied: jinja2 in /usr/local/lib/python3.10/dist-packages (from mne) (3.1.2)\n",
            "Requirement already satisfied: lazy-loader>=0.3 in /usr/local/lib/python3.10/dist-packages (from mne) (0.3)\n",
            "Requirement already satisfied: defusedxml in /usr/local/lib/python3.10/dist-packages (from mne) (0.7.1)\n",
            "Requirement already satisfied: contourpy>=1.0.1 in /usr/local/lib/python3.10/dist-packages (from matplotlib>=3.5.0->mne) (1.2.0)\n",
            "Requirement already satisfied: cycler>=0.10 in /usr/local/lib/python3.10/dist-packages (from matplotlib>=3.5.0->mne) (0.12.1)\n",
            "Requirement already satisfied: fonttools>=4.22.0 in /usr/local/lib/python3.10/dist-packages (from matplotlib>=3.5.0->mne) (4.46.0)\n",
            "Requirement already satisfied: kiwisolver>=1.0.1 in /usr/local/lib/python3.10/dist-packages (from matplotlib>=3.5.0->mne) (1.4.5)\n",
            "Requirement already satisfied: pillow>=6.2.0 in /usr/local/lib/python3.10/dist-packages (from matplotlib>=3.5.0->mne) (9.4.0)\n",
            "Requirement already satisfied: pyparsing>=2.3.1 in /usr/local/lib/python3.10/dist-packages (from matplotlib>=3.5.0->mne) (3.1.1)\n",
            "Requirement already satisfied: python-dateutil>=2.7 in /usr/local/lib/python3.10/dist-packages (from matplotlib>=3.5.0->mne) (2.8.2)\n",
            "Requirement already satisfied: platformdirs>=2.5.0 in /usr/local/lib/python3.10/dist-packages (from pooch>=1.5->mne) (4.1.0)\n",
            "Requirement already satisfied: requests>=2.19.0 in /usr/local/lib/python3.10/dist-packages (from pooch>=1.5->mne) (2.31.0)\n",
            "Requirement already satisfied: MarkupSafe>=2.0 in /usr/local/lib/python3.10/dist-packages (from jinja2->mne) (2.1.3)\n",
            "Requirement already satisfied: six>=1.5 in /usr/local/lib/python3.10/dist-packages (from python-dateutil>=2.7->matplotlib>=3.5.0->mne) (1.16.0)\n",
            "Requirement already satisfied: charset-normalizer<4,>=2 in /usr/local/lib/python3.10/dist-packages (from requests>=2.19.0->pooch>=1.5->mne) (3.3.2)\n",
            "Requirement already satisfied: idna<4,>=2.5 in /usr/local/lib/python3.10/dist-packages (from requests>=2.19.0->pooch>=1.5->mne) (3.6)\n",
            "Requirement already satisfied: urllib3<3,>=1.21.1 in /usr/local/lib/python3.10/dist-packages (from requests>=2.19.0->pooch>=1.5->mne) (2.0.7)\n",
            "Requirement already satisfied: certifi>=2017.4.17 in /usr/local/lib/python3.10/dist-packages (from requests>=2.19.0->pooch>=1.5->mne) (2023.11.17)\n"
          ]
        }
      ],
      "source": [
        "!pip install mne"
      ]
    },
    {
      "cell_type": "markdown",
      "metadata": {
        "id": "T9nf7DVKHNbi"
      },
      "source": [
        "**Tracing file path**"
      ]
    },
    {
      "cell_type": "code",
      "execution_count": null,
      "metadata": {
        "colab": {
          "base_uri": "https://localhost:8080/"
        },
        "id": "0Ui7okyZBfs-",
        "outputId": "32aa146a-bc10-48d8-9659-b119ebab2fde"
      },
      "outputs": [
        {
          "output_type": "stream",
          "name": "stdout",
          "text": [
            "Drive already mounted at /content/drive; to attempt to forcibly remount, call drive.mount(\"/content/drive\", force_remount=True).\n"
          ]
        }
      ],
      "source": [
        "from google.colab import drive\n",
        "drive.mount('/content/drive')"
      ]
    },
    {
      "cell_type": "code",
      "execution_count": null,
      "metadata": {
        "id": "dg-UF0f6GZdN"
      },
      "outputs": [],
      "source": [
        "from glob import glob\n",
        "import os\n",
        "import mne\n",
        "import pandas as pd\n",
        "import numpy as np\n",
        "import matplotlib.pyplot as plt\n",
        "from sklearn.linear_model import LogisticRegression\n",
        "from sklearn.pipeline import Pipeline\n",
        "from sklearn.preprocessing import StandardScaler\n",
        "from sklearn.model_selection import GroupKFold,GridSearchCV,cross_val_score,cross_validate\n",
        "from sklearn.svm import SVC\n",
        "from sklearn.pipeline import Pipeline\n",
        "from sklearn.preprocessing import StandardScaler\n",
        "from sklearn.model_selection import GroupKFold, GridSearchCV\n",
        "from sklearn import metrics\n",
        "from sklearn.neighbors import KNeighborsClassifier\n",
        "from sklearn.model_selection import GridSearchCV, GroupKFold\n",
        "from sklearn.preprocessing import StandardScaler\n",
        "from sklearn import metrics"
      ]
    },
    {
      "cell_type": "code",
      "execution_count": null,
      "metadata": {
        "colab": {
          "base_uri": "https://localhost:8080/"
        },
        "id": "cVXIHcGvDyKZ",
        "outputId": "e685e22f-5fe9-41d3-cabd-72ece615a2c4"
      },
      "outputs": [
        {
          "output_type": "execute_result",
          "data": {
            "text/plain": [
              "['/content/drive/MyDrive/CSE424/Dataset/EEG/dataverse_files/h01.edf',\n",
              " '/content/drive/MyDrive/CSE424/Dataset/EEG/dataverse_files/h03.edf',\n",
              " '/content/drive/MyDrive/CSE424/Dataset/EEG/dataverse_files/h02.edf',\n",
              " '/content/drive/MyDrive/CSE424/Dataset/EEG/dataverse_files/h04.edf',\n",
              " '/content/drive/MyDrive/CSE424/Dataset/EEG/dataverse_files/h05.edf',\n",
              " '/content/drive/MyDrive/CSE424/Dataset/EEG/dataverse_files/h08.edf',\n",
              " '/content/drive/MyDrive/CSE424/Dataset/EEG/dataverse_files/h07.edf',\n",
              " '/content/drive/MyDrive/CSE424/Dataset/EEG/dataverse_files/h06.edf',\n",
              " '/content/drive/MyDrive/CSE424/Dataset/EEG/dataverse_files/h10.edf',\n",
              " '/content/drive/MyDrive/CSE424/Dataset/EEG/dataverse_files/h13.edf',\n",
              " '/content/drive/MyDrive/CSE424/Dataset/EEG/dataverse_files/h09.edf',\n",
              " '/content/drive/MyDrive/CSE424/Dataset/EEG/dataverse_files/h11.edf',\n",
              " '/content/drive/MyDrive/CSE424/Dataset/EEG/dataverse_files/h14.edf',\n",
              " '/content/drive/MyDrive/CSE424/Dataset/EEG/dataverse_files/h12.edf',\n",
              " '/content/drive/MyDrive/CSE424/Dataset/EEG/dataverse_files/s02.edf',\n",
              " '/content/drive/MyDrive/CSE424/Dataset/EEG/dataverse_files/s01.edf',\n",
              " '/content/drive/MyDrive/CSE424/Dataset/EEG/dataverse_files/s03.edf',\n",
              " '/content/drive/MyDrive/CSE424/Dataset/EEG/dataverse_files/s05.edf',\n",
              " '/content/drive/MyDrive/CSE424/Dataset/EEG/dataverse_files/s04.edf',\n",
              " '/content/drive/MyDrive/CSE424/Dataset/EEG/dataverse_files/s07.edf',\n",
              " '/content/drive/MyDrive/CSE424/Dataset/EEG/dataverse_files/s06.edf',\n",
              " '/content/drive/MyDrive/CSE424/Dataset/EEG/dataverse_files/s09.edf',\n",
              " '/content/drive/MyDrive/CSE424/Dataset/EEG/dataverse_files/s08.edf',\n",
              " '/content/drive/MyDrive/CSE424/Dataset/EEG/dataverse_files/s10.edf',\n",
              " '/content/drive/MyDrive/CSE424/Dataset/EEG/dataverse_files/s12.edf',\n",
              " '/content/drive/MyDrive/CSE424/Dataset/EEG/dataverse_files/s14.edf',\n",
              " '/content/drive/MyDrive/CSE424/Dataset/EEG/dataverse_files/s11.edf',\n",
              " '/content/drive/MyDrive/CSE424/Dataset/EEG/dataverse_files/s13.edf']"
            ]
          },
          "metadata": {},
          "execution_count": 5
        }
      ],
      "source": [
        "file_path = glob(\"/content/drive/MyDrive/CSE424/Dataset/EEG/dataverse_files/*.edf\")\n",
        "file_path"
      ]
    },
    {
      "cell_type": "markdown",
      "metadata": {
        "id": "LpohMmVSHZ5b"
      },
      "source": [
        "\n",
        "# **Features Extraction**\n"
      ]
    },
    {
      "cell_type": "code",
      "execution_count": null,
      "metadata": {
        "colab": {
          "base_uri": "https://localhost:8080/"
        },
        "id": "sgkF38zgE9t5",
        "outputId": "adba9b74-2f28-4867-da60-242a01b50022"
      },
      "outputs": [
        {
          "output_type": "stream",
          "name": "stdout",
          "text": [
            "14 14\n"
          ]
        }
      ],
      "source": [
        "#healthy and patient seperation\n",
        "healthy_file_path =[i for i in file_path if \"h\" in i.split(\"dataverse_files/\")[1]]\n",
        "patient_file_path =[i for i in file_path if \"s\" in i.split(\"dataverse_files/\")[1]]\n",
        "print(len(healthy_file_path),len(patient_file_path))"
      ]
    },
    {
      "cell_type": "code",
      "execution_count": null,
      "metadata": {
        "id": "MxftKAdbFJyk"
      },
      "outputs": [],
      "source": [
        "#reading &filtering data\n",
        "def read_data(file_path):\n",
        "  data = mne.io.read_raw_edf(file_path,preload =True)\n",
        "  data.set_eeg_reference()\n",
        "  data.filter(l_freq =0.5, h_freq =45) #frequency range\n",
        "  epochs=mne.make_fixed_length_epochs(data, duration = 5, overlap=1)\n",
        "  array = epochs.get_data()\n",
        "  return array"
      ]
    },
    {
      "cell_type": "code",
      "execution_count": null,
      "metadata": {
        "colab": {
          "base_uri": "https://localhost:8080/"
        },
        "id": "u42MTeWxTc4V",
        "outputId": "26aaa84a-ef98-496f-bee9-b569441c4394"
      },
      "outputs": [
        {
          "output_type": "stream",
          "name": "stdout",
          "text": [
            "Extracting EDF parameters from /content/drive/MyDrive/CSE424/Dataset/EEG/dataverse_files/h01.edf...\n",
            "EDF file detected\n",
            "Setting channel info structure...\n",
            "Creating raw.info structure...\n",
            "Reading 0 ... 231249  =      0.000 ...   924.996 secs...\n",
            "EEG channel type selected for re-referencing\n",
            "Applying average reference.\n",
            "Applying a custom ('EEG',) reference.\n",
            "Filtering raw data in 1 contiguous segment\n",
            "Setting up band-pass filter from 0.5 - 45 Hz\n",
            "\n",
            "FIR filter parameters\n",
            "---------------------\n",
            "Designing a one-pass, zero-phase, non-causal bandpass filter:\n",
            "- Windowed time-domain design (firwin) method\n",
            "- Hamming window with 0.0194 passband ripple and 53 dB stopband attenuation\n",
            "- Lower passband edge: 0.50\n",
            "- Lower transition bandwidth: 0.50 Hz (-6 dB cutoff frequency: 0.25 Hz)\n",
            "- Upper passband edge: 45.00 Hz\n",
            "- Upper transition bandwidth: 11.25 Hz (-6 dB cutoff frequency: 50.62 Hz)\n",
            "- Filter length: 1651 samples (6.604 s)\n",
            "\n",
            "Not setting metadata\n",
            "231 matching events found\n"
          ]
        },
        {
          "output_type": "stream",
          "name": "stderr",
          "text": [
            "[Parallel(n_jobs=1)]: Done  17 tasks      | elapsed:    0.8s\n"
          ]
        },
        {
          "output_type": "stream",
          "name": "stdout",
          "text": [
            "No baseline correction applied\n",
            "0 projection items activated\n",
            "Using data from preloaded Raw for 231 events and 1250 original time points ...\n",
            "0 bad epochs dropped\n",
            "Extracting EDF parameters from /content/drive/MyDrive/CSE424/Dataset/EEG/dataverse_files/h03.edf...\n",
            "EDF file detected\n",
            "Setting channel info structure...\n",
            "Creating raw.info structure...\n",
            "Reading 0 ... 227499  =      0.000 ...   909.996 secs...\n",
            "EEG channel type selected for re-referencing\n",
            "Applying average reference.\n",
            "Applying a custom ('EEG',) reference.\n",
            "Filtering raw data in 1 contiguous segment\n",
            "Setting up band-pass filter from 0.5 - 45 Hz\n",
            "\n",
            "FIR filter parameters\n",
            "---------------------\n",
            "Designing a one-pass, zero-phase, non-causal bandpass filter:\n",
            "- Windowed time-domain design (firwin) method\n",
            "- Hamming window with 0.0194 passband ripple and 53 dB stopband attenuation\n",
            "- Lower passband edge: 0.50\n",
            "- Lower transition bandwidth: 0.50 Hz (-6 dB cutoff frequency: 0.25 Hz)\n",
            "- Upper passband edge: 45.00 Hz\n",
            "- Upper transition bandwidth: 11.25 Hz (-6 dB cutoff frequency: 50.62 Hz)\n",
            "- Filter length: 1651 samples (6.604 s)\n",
            "\n",
            "Not setting metadata\n",
            "227 matching events found\n"
          ]
        },
        {
          "output_type": "stream",
          "name": "stderr",
          "text": [
            "[Parallel(n_jobs=1)]: Done  17 tasks      | elapsed:    0.6s\n"
          ]
        },
        {
          "output_type": "stream",
          "name": "stdout",
          "text": [
            "No baseline correction applied\n",
            "0 projection items activated\n",
            "Using data from preloaded Raw for 227 events and 1250 original time points ...\n",
            "0 bad epochs dropped\n",
            "Extracting EDF parameters from /content/drive/MyDrive/CSE424/Dataset/EEG/dataverse_files/h02.edf...\n",
            "EDF file detected\n",
            "Setting channel info structure...\n",
            "Creating raw.info structure...\n",
            "Reading 0 ... 227499  =      0.000 ...   909.996 secs...\n",
            "EEG channel type selected for re-referencing\n",
            "Applying average reference.\n",
            "Applying a custom ('EEG',) reference.\n",
            "Filtering raw data in 1 contiguous segment\n",
            "Setting up band-pass filter from 0.5 - 45 Hz\n",
            "\n",
            "FIR filter parameters\n",
            "---------------------\n",
            "Designing a one-pass, zero-phase, non-causal bandpass filter:\n",
            "- Windowed time-domain design (firwin) method\n",
            "- Hamming window with 0.0194 passband ripple and 53 dB stopband attenuation\n",
            "- Lower passband edge: 0.50\n",
            "- Lower transition bandwidth: 0.50 Hz (-6 dB cutoff frequency: 0.25 Hz)\n",
            "- Upper passband edge: 45.00 Hz\n",
            "- Upper transition bandwidth: 11.25 Hz (-6 dB cutoff frequency: 50.62 Hz)\n",
            "- Filter length: 1651 samples (6.604 s)\n",
            "\n",
            "Not setting metadata\n",
            "227 matching events found\n",
            "No baseline correction applied\n",
            "0 projection items activated\n",
            "Using data from preloaded Raw for 227 events and 1250 original time points ...\n"
          ]
        },
        {
          "output_type": "stream",
          "name": "stderr",
          "text": [
            "[Parallel(n_jobs=1)]: Done  17 tasks      | elapsed:    0.8s\n"
          ]
        },
        {
          "output_type": "stream",
          "name": "stdout",
          "text": [
            "0 bad epochs dropped\n",
            "Extracting EDF parameters from /content/drive/MyDrive/CSE424/Dataset/EEG/dataverse_files/h04.edf...\n",
            "EDF file detected\n",
            "Setting channel info structure...\n",
            "Creating raw.info structure...\n",
            "Reading 0 ... 231249  =      0.000 ...   924.996 secs...\n",
            "EEG channel type selected for re-referencing\n",
            "Applying average reference.\n",
            "Applying a custom ('EEG',) reference.\n",
            "Filtering raw data in 1 contiguous segment\n",
            "Setting up band-pass filter from 0.5 - 45 Hz\n",
            "\n",
            "FIR filter parameters\n",
            "---------------------\n",
            "Designing a one-pass, zero-phase, non-causal bandpass filter:\n",
            "- Windowed time-domain design (firwin) method\n",
            "- Hamming window with 0.0194 passband ripple and 53 dB stopband attenuation\n",
            "- Lower passband edge: 0.50\n",
            "- Lower transition bandwidth: 0.50 Hz (-6 dB cutoff frequency: 0.25 Hz)\n",
            "- Upper passband edge: 45.00 Hz\n",
            "- Upper transition bandwidth: 11.25 Hz (-6 dB cutoff frequency: 50.62 Hz)\n",
            "- Filter length: 1651 samples (6.604 s)\n",
            "\n",
            "Not setting metadata\n",
            "231 matching events found\n"
          ]
        },
        {
          "output_type": "stream",
          "name": "stderr",
          "text": [
            "[Parallel(n_jobs=1)]: Done  17 tasks      | elapsed:    0.7s\n"
          ]
        },
        {
          "output_type": "stream",
          "name": "stdout",
          "text": [
            "No baseline correction applied\n",
            "0 projection items activated\n",
            "Using data from preloaded Raw for 231 events and 1250 original time points ...\n",
            "0 bad epochs dropped\n",
            "Extracting EDF parameters from /content/drive/MyDrive/CSE424/Dataset/EEG/dataverse_files/h05.edf...\n",
            "EDF file detected\n",
            "Setting channel info structure...\n",
            "Creating raw.info structure...\n",
            "Reading 0 ... 236249  =      0.000 ...   944.996 secs...\n",
            "EEG channel type selected for re-referencing\n",
            "Applying average reference.\n",
            "Applying a custom ('EEG',) reference.\n",
            "Filtering raw data in 1 contiguous segment\n",
            "Setting up band-pass filter from 0.5 - 45 Hz\n",
            "\n",
            "FIR filter parameters\n",
            "---------------------\n",
            "Designing a one-pass, zero-phase, non-causal bandpass filter:\n",
            "- Windowed time-domain design (firwin) method\n",
            "- Hamming window with 0.0194 passband ripple and 53 dB stopband attenuation\n",
            "- Lower passband edge: 0.50\n",
            "- Lower transition bandwidth: 0.50 Hz (-6 dB cutoff frequency: 0.25 Hz)\n",
            "- Upper passband edge: 45.00 Hz\n",
            "- Upper transition bandwidth: 11.25 Hz (-6 dB cutoff frequency: 50.62 Hz)\n",
            "- Filter length: 1651 samples (6.604 s)\n",
            "\n"
          ]
        },
        {
          "output_type": "stream",
          "name": "stderr",
          "text": [
            "[Parallel(n_jobs=1)]: Done  17 tasks      | elapsed:    1.8s\n"
          ]
        },
        {
          "output_type": "stream",
          "name": "stdout",
          "text": [
            "Not setting metadata\n",
            "236 matching events found\n",
            "No baseline correction applied\n",
            "0 projection items activated\n",
            "Using data from preloaded Raw for 236 events and 1250 original time points ...\n",
            "0 bad epochs dropped\n",
            "Extracting EDF parameters from /content/drive/MyDrive/CSE424/Dataset/EEG/dataverse_files/h08.edf...\n",
            "EDF file detected\n",
            "Setting channel info structure...\n",
            "Creating raw.info structure...\n",
            "Reading 0 ... 227499  =      0.000 ...   909.996 secs...\n",
            "EEG channel type selected for re-referencing\n",
            "Applying average reference.\n",
            "Applying a custom ('EEG',) reference.\n",
            "Filtering raw data in 1 contiguous segment\n",
            "Setting up band-pass filter from 0.5 - 45 Hz\n",
            "\n",
            "FIR filter parameters\n",
            "---------------------\n",
            "Designing a one-pass, zero-phase, non-causal bandpass filter:\n",
            "- Windowed time-domain design (firwin) method\n",
            "- Hamming window with 0.0194 passband ripple and 53 dB stopband attenuation\n",
            "- Lower passband edge: 0.50\n",
            "- Lower transition bandwidth: 0.50 Hz (-6 dB cutoff frequency: 0.25 Hz)\n",
            "- Upper passband edge: 45.00 Hz\n",
            "- Upper transition bandwidth: 11.25 Hz (-6 dB cutoff frequency: 50.62 Hz)\n",
            "- Filter length: 1651 samples (6.604 s)\n",
            "\n"
          ]
        },
        {
          "output_type": "stream",
          "name": "stderr",
          "text": [
            "[Parallel(n_jobs=1)]: Done  17 tasks      | elapsed:    1.4s\n"
          ]
        },
        {
          "output_type": "stream",
          "name": "stdout",
          "text": [
            "Not setting metadata\n",
            "227 matching events found\n",
            "No baseline correction applied\n",
            "0 projection items activated\n",
            "Using data from preloaded Raw for 227 events and 1250 original time points ...\n",
            "0 bad epochs dropped\n",
            "Extracting EDF parameters from /content/drive/MyDrive/CSE424/Dataset/EEG/dataverse_files/h07.edf...\n",
            "EDF file detected\n",
            "Setting channel info structure...\n",
            "Creating raw.info structure...\n",
            "Reading 0 ... 227499  =      0.000 ...   909.996 secs...\n",
            "EEG channel type selected for re-referencing\n",
            "Applying average reference.\n",
            "Applying a custom ('EEG',) reference.\n",
            "Filtering raw data in 1 contiguous segment\n",
            "Setting up band-pass filter from 0.5 - 45 Hz\n",
            "\n",
            "FIR filter parameters\n",
            "---------------------\n",
            "Designing a one-pass, zero-phase, non-causal bandpass filter:\n",
            "- Windowed time-domain design (firwin) method\n",
            "- Hamming window with 0.0194 passband ripple and 53 dB stopband attenuation\n",
            "- Lower passband edge: 0.50\n",
            "- Lower transition bandwidth: 0.50 Hz (-6 dB cutoff frequency: 0.25 Hz)\n",
            "- Upper passband edge: 45.00 Hz\n",
            "- Upper transition bandwidth: 11.25 Hz (-6 dB cutoff frequency: 50.62 Hz)\n",
            "- Filter length: 1651 samples (6.604 s)\n",
            "\n"
          ]
        },
        {
          "output_type": "stream",
          "name": "stderr",
          "text": [
            "[Parallel(n_jobs=1)]: Done  17 tasks      | elapsed:    0.7s\n"
          ]
        },
        {
          "output_type": "stream",
          "name": "stdout",
          "text": [
            "Not setting metadata\n",
            "227 matching events found\n",
            "No baseline correction applied\n",
            "0 projection items activated\n",
            "Using data from preloaded Raw for 227 events and 1250 original time points ...\n",
            "0 bad epochs dropped\n",
            "Extracting EDF parameters from /content/drive/MyDrive/CSE424/Dataset/EEG/dataverse_files/h06.edf...\n",
            "EDF file detected\n",
            "Setting channel info structure...\n",
            "Creating raw.info structure...\n",
            "Reading 0 ... 232499  =      0.000 ...   929.996 secs...\n",
            "EEG channel type selected for re-referencing\n",
            "Applying average reference.\n",
            "Applying a custom ('EEG',) reference.\n",
            "Filtering raw data in 1 contiguous segment\n",
            "Setting up band-pass filter from 0.5 - 45 Hz\n",
            "\n",
            "FIR filter parameters\n",
            "---------------------\n",
            "Designing a one-pass, zero-phase, non-causal bandpass filter:\n",
            "- Windowed time-domain design (firwin) method\n",
            "- Hamming window with 0.0194 passband ripple and 53 dB stopband attenuation\n",
            "- Lower passband edge: 0.50\n",
            "- Lower transition bandwidth: 0.50 Hz (-6 dB cutoff frequency: 0.25 Hz)\n",
            "- Upper passband edge: 45.00 Hz\n",
            "- Upper transition bandwidth: 11.25 Hz (-6 dB cutoff frequency: 50.62 Hz)\n",
            "- Filter length: 1651 samples (6.604 s)\n",
            "\n",
            "Not setting metadata\n",
            "232 matching events found\n",
            "No baseline correction applied\n",
            "0 projection items activated\n",
            "Using data from preloaded Raw for 232 events and 1250 original time points ...\n"
          ]
        },
        {
          "output_type": "stream",
          "name": "stderr",
          "text": [
            "[Parallel(n_jobs=1)]: Done  17 tasks      | elapsed:    0.7s\n"
          ]
        },
        {
          "output_type": "stream",
          "name": "stdout",
          "text": [
            "0 bad epochs dropped\n",
            "Extracting EDF parameters from /content/drive/MyDrive/CSE424/Dataset/EEG/dataverse_files/h10.edf...\n",
            "EDF file detected\n",
            "Setting channel info structure...\n",
            "Creating raw.info structure...\n",
            "Reading 0 ... 278749  =      0.000 ...  1114.996 secs...\n",
            "EEG channel type selected for re-referencing\n",
            "Applying average reference.\n",
            "Applying a custom ('EEG',) reference.\n",
            "Filtering raw data in 1 contiguous segment\n",
            "Setting up band-pass filter from 0.5 - 45 Hz\n",
            "\n",
            "FIR filter parameters\n",
            "---------------------\n",
            "Designing a one-pass, zero-phase, non-causal bandpass filter:\n",
            "- Windowed time-domain design (firwin) method\n",
            "- Hamming window with 0.0194 passband ripple and 53 dB stopband attenuation\n",
            "- Lower passband edge: 0.50\n",
            "- Lower transition bandwidth: 0.50 Hz (-6 dB cutoff frequency: 0.25 Hz)\n",
            "- Upper passband edge: 45.00 Hz\n",
            "- Upper transition bandwidth: 11.25 Hz (-6 dB cutoff frequency: 50.62 Hz)\n",
            "- Filter length: 1651 samples (6.604 s)\n",
            "\n"
          ]
        },
        {
          "output_type": "stream",
          "name": "stderr",
          "text": [
            "[Parallel(n_jobs=1)]: Done  17 tasks      | elapsed:    1.0s\n"
          ]
        },
        {
          "output_type": "stream",
          "name": "stdout",
          "text": [
            "Not setting metadata\n",
            "278 matching events found\n",
            "No baseline correction applied\n",
            "0 projection items activated\n",
            "Using data from preloaded Raw for 278 events and 1250 original time points ...\n",
            "0 bad epochs dropped\n",
            "Extracting EDF parameters from /content/drive/MyDrive/CSE424/Dataset/EEG/dataverse_files/h13.edf...\n",
            "EDF file detected\n",
            "Setting channel info structure...\n",
            "Creating raw.info structure...\n",
            "Reading 0 ... 241249  =      0.000 ...   964.996 secs...\n",
            "EEG channel type selected for re-referencing\n",
            "Applying average reference.\n",
            "Applying a custom ('EEG',) reference.\n",
            "Filtering raw data in 1 contiguous segment\n",
            "Setting up band-pass filter from 0.5 - 45 Hz\n",
            "\n",
            "FIR filter parameters\n",
            "---------------------\n",
            "Designing a one-pass, zero-phase, non-causal bandpass filter:\n",
            "- Windowed time-domain design (firwin) method\n",
            "- Hamming window with 0.0194 passband ripple and 53 dB stopband attenuation\n",
            "- Lower passband edge: 0.50\n",
            "- Lower transition bandwidth: 0.50 Hz (-6 dB cutoff frequency: 0.25 Hz)\n",
            "- Upper passband edge: 45.00 Hz\n",
            "- Upper transition bandwidth: 11.25 Hz (-6 dB cutoff frequency: 50.62 Hz)\n",
            "- Filter length: 1651 samples (6.604 s)\n",
            "\n",
            "Not setting metadata\n",
            "241 matching events found\n",
            "No baseline correction applied\n",
            "0 projection items activated\n",
            "Using data from preloaded Raw for 241 events and 1250 original time points ...\n"
          ]
        },
        {
          "output_type": "stream",
          "name": "stderr",
          "text": [
            "[Parallel(n_jobs=1)]: Done  17 tasks      | elapsed:    0.8s\n"
          ]
        },
        {
          "output_type": "stream",
          "name": "stdout",
          "text": [
            "0 bad epochs dropped\n",
            "Extracting EDF parameters from /content/drive/MyDrive/CSE424/Dataset/EEG/dataverse_files/h09.edf...\n",
            "EDF file detected\n",
            "Setting channel info structure...\n",
            "Creating raw.info structure...\n",
            "Reading 0 ... 226249  =      0.000 ...   904.996 secs...\n",
            "EEG channel type selected for re-referencing\n",
            "Applying average reference.\n",
            "Applying a custom ('EEG',) reference.\n",
            "Filtering raw data in 1 contiguous segment\n",
            "Setting up band-pass filter from 0.5 - 45 Hz\n",
            "\n",
            "FIR filter parameters\n",
            "---------------------\n",
            "Designing a one-pass, zero-phase, non-causal bandpass filter:\n",
            "- Windowed time-domain design (firwin) method\n",
            "- Hamming window with 0.0194 passband ripple and 53 dB stopband attenuation\n",
            "- Lower passband edge: 0.50\n",
            "- Lower transition bandwidth: 0.50 Hz (-6 dB cutoff frequency: 0.25 Hz)\n",
            "- Upper passband edge: 45.00 Hz\n",
            "- Upper transition bandwidth: 11.25 Hz (-6 dB cutoff frequency: 50.62 Hz)\n",
            "- Filter length: 1651 samples (6.604 s)\n",
            "\n"
          ]
        },
        {
          "output_type": "stream",
          "name": "stderr",
          "text": [
            "[Parallel(n_jobs=1)]: Done  17 tasks      | elapsed:    1.0s\n"
          ]
        },
        {
          "output_type": "stream",
          "name": "stdout",
          "text": [
            "Not setting metadata\n",
            "226 matching events found\n",
            "No baseline correction applied\n",
            "0 projection items activated\n",
            "Using data from preloaded Raw for 226 events and 1250 original time points ...\n",
            "0 bad epochs dropped\n",
            "Extracting EDF parameters from /content/drive/MyDrive/CSE424/Dataset/EEG/dataverse_files/h11.edf...\n",
            "EDF file detected\n",
            "Setting channel info structure...\n",
            "Creating raw.info structure...\n",
            "Reading 0 ... 228749  =      0.000 ...   914.996 secs...\n",
            "EEG channel type selected for re-referencing\n",
            "Applying average reference.\n",
            "Applying a custom ('EEG',) reference.\n",
            "Filtering raw data in 1 contiguous segment\n",
            "Setting up band-pass filter from 0.5 - 45 Hz\n",
            "\n",
            "FIR filter parameters\n",
            "---------------------\n",
            "Designing a one-pass, zero-phase, non-causal bandpass filter:\n",
            "- Windowed time-domain design (firwin) method\n",
            "- Hamming window with 0.0194 passband ripple and 53 dB stopband attenuation\n",
            "- Lower passband edge: 0.50\n",
            "- Lower transition bandwidth: 0.50 Hz (-6 dB cutoff frequency: 0.25 Hz)\n",
            "- Upper passband edge: 45.00 Hz\n",
            "- Upper transition bandwidth: 11.25 Hz (-6 dB cutoff frequency: 50.62 Hz)\n",
            "- Filter length: 1651 samples (6.604 s)\n",
            "\n"
          ]
        },
        {
          "output_type": "stream",
          "name": "stderr",
          "text": [
            "[Parallel(n_jobs=1)]: Done  17 tasks      | elapsed:    1.2s\n"
          ]
        },
        {
          "output_type": "stream",
          "name": "stdout",
          "text": [
            "Not setting metadata\n",
            "228 matching events found\n",
            "No baseline correction applied\n",
            "0 projection items activated\n",
            "Using data from preloaded Raw for 228 events and 1250 original time points ...\n",
            "0 bad epochs dropped\n",
            "Extracting EDF parameters from /content/drive/MyDrive/CSE424/Dataset/EEG/dataverse_files/h14.edf...\n",
            "EDF file detected\n",
            "Setting channel info structure...\n",
            "Creating raw.info structure...\n",
            "Reading 0 ... 216249  =      0.000 ...   864.996 secs...\n",
            "EEG channel type selected for re-referencing\n",
            "Applying average reference.\n",
            "Applying a custom ('EEG',) reference.\n",
            "Filtering raw data in 1 contiguous segment\n",
            "Setting up band-pass filter from 0.5 - 45 Hz\n",
            "\n",
            "FIR filter parameters\n",
            "---------------------\n",
            "Designing a one-pass, zero-phase, non-causal bandpass filter:\n",
            "- Windowed time-domain design (firwin) method\n",
            "- Hamming window with 0.0194 passband ripple and 53 dB stopband attenuation\n",
            "- Lower passband edge: 0.50\n",
            "- Lower transition bandwidth: 0.50 Hz (-6 dB cutoff frequency: 0.25 Hz)\n",
            "- Upper passband edge: 45.00 Hz\n",
            "- Upper transition bandwidth: 11.25 Hz (-6 dB cutoff frequency: 50.62 Hz)\n",
            "- Filter length: 1651 samples (6.604 s)\n",
            "\n"
          ]
        },
        {
          "output_type": "stream",
          "name": "stderr",
          "text": [
            "[Parallel(n_jobs=1)]: Done  17 tasks      | elapsed:    1.7s\n"
          ]
        },
        {
          "output_type": "stream",
          "name": "stdout",
          "text": [
            "Not setting metadata\n",
            "216 matching events found\n",
            "No baseline correction applied\n",
            "0 projection items activated\n",
            "Using data from preloaded Raw for 216 events and 1250 original time points ...\n",
            "0 bad epochs dropped\n",
            "Extracting EDF parameters from /content/drive/MyDrive/CSE424/Dataset/EEG/dataverse_files/h12.edf...\n",
            "EDF file detected\n",
            "Setting channel info structure...\n",
            "Creating raw.info structure...\n",
            "Reading 0 ... 224999  =      0.000 ...   899.996 secs...\n",
            "EEG channel type selected for re-referencing\n",
            "Applying average reference.\n",
            "Applying a custom ('EEG',) reference.\n",
            "Filtering raw data in 1 contiguous segment\n",
            "Setting up band-pass filter from 0.5 - 45 Hz\n",
            "\n",
            "FIR filter parameters\n",
            "---------------------\n",
            "Designing a one-pass, zero-phase, non-causal bandpass filter:\n",
            "- Windowed time-domain design (firwin) method\n",
            "- Hamming window with 0.0194 passband ripple and 53 dB stopband attenuation\n",
            "- Lower passband edge: 0.50\n",
            "- Lower transition bandwidth: 0.50 Hz (-6 dB cutoff frequency: 0.25 Hz)\n",
            "- Upper passband edge: 45.00 Hz\n",
            "- Upper transition bandwidth: 11.25 Hz (-6 dB cutoff frequency: 50.62 Hz)\n",
            "- Filter length: 1651 samples (6.604 s)\n",
            "\n",
            "Not setting metadata\n",
            "224 matching events found\n",
            "No baseline correction applied\n",
            "0 projection items activated\n",
            "Using data from preloaded Raw for 224 events and 1250 original time points ...\n"
          ]
        },
        {
          "output_type": "stream",
          "name": "stderr",
          "text": [
            "[Parallel(n_jobs=1)]: Done  17 tasks      | elapsed:    1.0s\n"
          ]
        },
        {
          "output_type": "stream",
          "name": "stdout",
          "text": [
            "0 bad epochs dropped\n",
            "Extracting EDF parameters from /content/drive/MyDrive/CSE424/Dataset/EEG/dataverse_files/s02.edf...\n",
            "EDF file detected\n",
            "Setting channel info structure...\n",
            "Creating raw.info structure...\n",
            "Reading 0 ... 286249  =      0.000 ...  1144.996 secs...\n",
            "EEG channel type selected for re-referencing\n",
            "Applying average reference.\n",
            "Applying a custom ('EEG',) reference.\n",
            "Filtering raw data in 1 contiguous segment\n",
            "Setting up band-pass filter from 0.5 - 45 Hz\n",
            "\n",
            "FIR filter parameters\n",
            "---------------------\n",
            "Designing a one-pass, zero-phase, non-causal bandpass filter:\n",
            "- Windowed time-domain design (firwin) method\n",
            "- Hamming window with 0.0194 passband ripple and 53 dB stopband attenuation\n",
            "- Lower passband edge: 0.50\n",
            "- Lower transition bandwidth: 0.50 Hz (-6 dB cutoff frequency: 0.25 Hz)\n",
            "- Upper passband edge: 45.00 Hz\n",
            "- Upper transition bandwidth: 11.25 Hz (-6 dB cutoff frequency: 50.62 Hz)\n",
            "- Filter length: 1651 samples (6.604 s)\n",
            "\n",
            "Not setting metadata\n",
            "286 matching events found\n",
            "No baseline correction applied\n",
            "0 projection items activated\n",
            "Using data from preloaded Raw for 286 events and 1250 original time points ...\n"
          ]
        },
        {
          "output_type": "stream",
          "name": "stderr",
          "text": [
            "[Parallel(n_jobs=1)]: Done  17 tasks      | elapsed:    1.1s\n"
          ]
        },
        {
          "output_type": "stream",
          "name": "stdout",
          "text": [
            "0 bad epochs dropped\n",
            "Extracting EDF parameters from /content/drive/MyDrive/CSE424/Dataset/EEG/dataverse_files/s01.edf...\n",
            "EDF file detected\n",
            "Setting channel info structure...\n",
            "Creating raw.info structure...\n",
            "Reading 0 ... 211249  =      0.000 ...   844.996 secs...\n",
            "EEG channel type selected for re-referencing\n",
            "Applying average reference.\n",
            "Applying a custom ('EEG',) reference.\n",
            "Filtering raw data in 1 contiguous segment\n",
            "Setting up band-pass filter from 0.5 - 45 Hz\n",
            "\n",
            "FIR filter parameters\n",
            "---------------------\n",
            "Designing a one-pass, zero-phase, non-causal bandpass filter:\n",
            "- Windowed time-domain design (firwin) method\n",
            "- Hamming window with 0.0194 passband ripple and 53 dB stopband attenuation\n",
            "- Lower passband edge: 0.50\n",
            "- Lower transition bandwidth: 0.50 Hz (-6 dB cutoff frequency: 0.25 Hz)\n",
            "- Upper passband edge: 45.00 Hz\n",
            "- Upper transition bandwidth: 11.25 Hz (-6 dB cutoff frequency: 50.62 Hz)\n",
            "- Filter length: 1651 samples (6.604 s)\n",
            "\n",
            "Not setting metadata\n",
            "211 matching events found\n",
            "No baseline correction applied\n",
            "0 projection items activated\n",
            "Using data from preloaded Raw for 211 events and 1250 original time points ...\n",
            "0 bad epochs dropped\n",
            "Extracting EDF parameters from /content/drive/MyDrive/CSE424/Dataset/EEG/dataverse_files/s03.edf...\n",
            "EDF file detected\n"
          ]
        },
        {
          "output_type": "stream",
          "name": "stderr",
          "text": [
            "[Parallel(n_jobs=1)]: Done  17 tasks      | elapsed:    0.3s\n"
          ]
        },
        {
          "output_type": "stream",
          "name": "stdout",
          "text": [
            "Setting channel info structure...\n",
            "Creating raw.info structure...\n",
            "Reading 0 ... 240999  =      0.000 ...   963.996 secs...\n",
            "EEG channel type selected for re-referencing\n",
            "Applying average reference.\n",
            "Applying a custom ('EEG',) reference.\n",
            "Filtering raw data in 1 contiguous segment\n",
            "Setting up band-pass filter from 0.5 - 45 Hz\n",
            "\n",
            "FIR filter parameters\n",
            "---------------------\n",
            "Designing a one-pass, zero-phase, non-causal bandpass filter:\n",
            "- Windowed time-domain design (firwin) method\n",
            "- Hamming window with 0.0194 passband ripple and 53 dB stopband attenuation\n",
            "- Lower passband edge: 0.50\n",
            "- Lower transition bandwidth: 0.50 Hz (-6 dB cutoff frequency: 0.25 Hz)\n",
            "- Upper passband edge: 45.00 Hz\n",
            "- Upper transition bandwidth: 11.25 Hz (-6 dB cutoff frequency: 50.62 Hz)\n",
            "- Filter length: 1651 samples (6.604 s)\n",
            "\n",
            "Not setting metadata\n",
            "240 matching events found\n",
            "No baseline correction applied\n",
            "0 projection items activated\n",
            "Using data from preloaded Raw for 240 events and 1250 original time points ...\n"
          ]
        },
        {
          "output_type": "stream",
          "name": "stderr",
          "text": [
            "[Parallel(n_jobs=1)]: Done  17 tasks      | elapsed:    0.3s\n"
          ]
        },
        {
          "output_type": "stream",
          "name": "stdout",
          "text": [
            "0 bad epochs dropped\n",
            "Extracting EDF parameters from /content/drive/MyDrive/CSE424/Dataset/EEG/dataverse_files/s05.edf...\n",
            "EDF file detected\n",
            "Setting channel info structure...\n",
            "Creating raw.info structure...\n",
            "Reading 0 ... 222499  =      0.000 ...   889.996 secs...\n",
            "EEG channel type selected for re-referencing\n",
            "Applying average reference.\n",
            "Applying a custom ('EEG',) reference.\n",
            "Filtering raw data in 1 contiguous segment\n",
            "Setting up band-pass filter from 0.5 - 45 Hz\n",
            "\n",
            "FIR filter parameters\n",
            "---------------------\n",
            "Designing a one-pass, zero-phase, non-causal bandpass filter:\n",
            "- Windowed time-domain design (firwin) method\n",
            "- Hamming window with 0.0194 passband ripple and 53 dB stopband attenuation\n",
            "- Lower passband edge: 0.50\n",
            "- Lower transition bandwidth: 0.50 Hz (-6 dB cutoff frequency: 0.25 Hz)\n",
            "- Upper passband edge: 45.00 Hz\n",
            "- Upper transition bandwidth: 11.25 Hz (-6 dB cutoff frequency: 50.62 Hz)\n",
            "- Filter length: 1651 samples (6.604 s)\n",
            "\n",
            "Not setting metadata\n",
            "222 matching events found\n",
            "No baseline correction applied\n",
            "0 projection items activated\n",
            "Using data from preloaded Raw for 222 events and 1250 original time points ...\n"
          ]
        },
        {
          "output_type": "stream",
          "name": "stderr",
          "text": [
            "[Parallel(n_jobs=1)]: Done  17 tasks      | elapsed:    0.4s\n"
          ]
        },
        {
          "output_type": "stream",
          "name": "stdout",
          "text": [
            "0 bad epochs dropped\n",
            "Extracting EDF parameters from /content/drive/MyDrive/CSE424/Dataset/EEG/dataverse_files/s04.edf...\n",
            "EDF file detected\n",
            "Setting channel info structure...\n",
            "Creating raw.info structure...\n",
            "Reading 0 ... 301249  =      0.000 ...  1204.996 secs...\n",
            "EEG channel type selected for re-referencing\n",
            "Applying average reference.\n",
            "Applying a custom ('EEG',) reference.\n",
            "Filtering raw data in 1 contiguous segment\n",
            "Setting up band-pass filter from 0.5 - 45 Hz\n",
            "\n",
            "FIR filter parameters\n",
            "---------------------\n",
            "Designing a one-pass, zero-phase, non-causal bandpass filter:\n",
            "- Windowed time-domain design (firwin) method\n",
            "- Hamming window with 0.0194 passband ripple and 53 dB stopband attenuation\n",
            "- Lower passband edge: 0.50\n",
            "- Lower transition bandwidth: 0.50 Hz (-6 dB cutoff frequency: 0.25 Hz)\n",
            "- Upper passband edge: 45.00 Hz\n",
            "- Upper transition bandwidth: 11.25 Hz (-6 dB cutoff frequency: 50.62 Hz)\n",
            "- Filter length: 1651 samples (6.604 s)\n",
            "\n",
            "Not setting metadata\n",
            "301 matching events found\n",
            "No baseline correction applied\n",
            "0 projection items activated\n",
            "Using data from preloaded Raw for 301 events and 1250 original time points ...\n"
          ]
        },
        {
          "output_type": "stream",
          "name": "stderr",
          "text": [
            "[Parallel(n_jobs=1)]: Done  17 tasks      | elapsed:    0.6s\n"
          ]
        },
        {
          "output_type": "stream",
          "name": "stdout",
          "text": [
            "0 bad epochs dropped\n",
            "Extracting EDF parameters from /content/drive/MyDrive/CSE424/Dataset/EEG/dataverse_files/s07.edf...\n",
            "EDF file detected\n",
            "Setting channel info structure...\n",
            "Creating raw.info structure...\n",
            "Reading 0 ... 336499  =      0.000 ...  1345.996 secs...\n",
            "EEG channel type selected for re-referencing\n",
            "Applying average reference.\n",
            "Applying a custom ('EEG',) reference.\n",
            "Filtering raw data in 1 contiguous segment\n",
            "Setting up band-pass filter from 0.5 - 45 Hz\n",
            "\n",
            "FIR filter parameters\n",
            "---------------------\n",
            "Designing a one-pass, zero-phase, non-causal bandpass filter:\n",
            "- Windowed time-domain design (firwin) method\n",
            "- Hamming window with 0.0194 passband ripple and 53 dB stopband attenuation\n",
            "- Lower passband edge: 0.50\n",
            "- Lower transition bandwidth: 0.50 Hz (-6 dB cutoff frequency: 0.25 Hz)\n",
            "- Upper passband edge: 45.00 Hz\n",
            "- Upper transition bandwidth: 11.25 Hz (-6 dB cutoff frequency: 50.62 Hz)\n",
            "- Filter length: 1651 samples (6.604 s)\n",
            "\n",
            "Not setting metadata\n",
            "336 matching events found\n",
            "No baseline correction applied\n",
            "0 projection items activated\n",
            "Using data from preloaded Raw for 336 events and 1250 original time points ...\n"
          ]
        },
        {
          "output_type": "stream",
          "name": "stderr",
          "text": [
            "[Parallel(n_jobs=1)]: Done  17 tasks      | elapsed:    0.6s\n"
          ]
        },
        {
          "output_type": "stream",
          "name": "stdout",
          "text": [
            "0 bad epochs dropped\n",
            "Extracting EDF parameters from /content/drive/MyDrive/CSE424/Dataset/EEG/dataverse_files/s06.edf...\n",
            "EDF file detected\n",
            "Setting channel info structure...\n",
            "Creating raw.info structure...\n",
            "Reading 0 ... 184999  =      0.000 ...   739.996 secs...\n",
            "EEG channel type selected for re-referencing\n",
            "Applying average reference.\n",
            "Applying a custom ('EEG',) reference.\n",
            "Filtering raw data in 1 contiguous segment\n",
            "Setting up band-pass filter from 0.5 - 45 Hz\n",
            "\n",
            "FIR filter parameters\n",
            "---------------------\n",
            "Designing a one-pass, zero-phase, non-causal bandpass filter:\n",
            "- Windowed time-domain design (firwin) method\n",
            "- Hamming window with 0.0194 passband ripple and 53 dB stopband attenuation\n",
            "- Lower passband edge: 0.50\n",
            "- Lower transition bandwidth: 0.50 Hz (-6 dB cutoff frequency: 0.25 Hz)\n",
            "- Upper passband edge: 45.00 Hz\n",
            "- Upper transition bandwidth: 11.25 Hz (-6 dB cutoff frequency: 50.62 Hz)\n",
            "- Filter length: 1651 samples (6.604 s)\n",
            "\n",
            "Not setting metadata\n",
            "184 matching events found\n",
            "No baseline correction applied\n",
            "0 projection items activated\n",
            "Using data from preloaded Raw for 184 events and 1250 original time points ...\n",
            "0 bad epochs dropped\n",
            "Extracting EDF parameters from /content/drive/MyDrive/CSE424/Dataset/EEG/dataverse_files/s09.edf...\n",
            "EDF file detected\n",
            "Setting channel info structure...\n",
            "Creating raw.info structure...\n"
          ]
        },
        {
          "output_type": "stream",
          "name": "stderr",
          "text": [
            "[Parallel(n_jobs=1)]: Done  17 tasks      | elapsed:    0.3s\n"
          ]
        },
        {
          "output_type": "stream",
          "name": "stdout",
          "text": [
            "Reading 0 ... 296249  =      0.000 ...  1184.996 secs...\n",
            "EEG channel type selected for re-referencing\n",
            "Applying average reference.\n",
            "Applying a custom ('EEG',) reference.\n",
            "Filtering raw data in 1 contiguous segment\n",
            "Setting up band-pass filter from 0.5 - 45 Hz\n",
            "\n",
            "FIR filter parameters\n",
            "---------------------\n",
            "Designing a one-pass, zero-phase, non-causal bandpass filter:\n",
            "- Windowed time-domain design (firwin) method\n",
            "- Hamming window with 0.0194 passband ripple and 53 dB stopband attenuation\n",
            "- Lower passband edge: 0.50\n",
            "- Lower transition bandwidth: 0.50 Hz (-6 dB cutoff frequency: 0.25 Hz)\n",
            "- Upper passband edge: 45.00 Hz\n",
            "- Upper transition bandwidth: 11.25 Hz (-6 dB cutoff frequency: 50.62 Hz)\n",
            "- Filter length: 1651 samples (6.604 s)\n",
            "\n",
            "Not setting metadata\n",
            "296 matching events found\n",
            "No baseline correction applied\n",
            "0 projection items activated\n",
            "Using data from preloaded Raw for 296 events and 1250 original time points ...\n"
          ]
        },
        {
          "output_type": "stream",
          "name": "stderr",
          "text": [
            "[Parallel(n_jobs=1)]: Done  17 tasks      | elapsed:    0.6s\n"
          ]
        },
        {
          "output_type": "stream",
          "name": "stdout",
          "text": [
            "0 bad epochs dropped\n",
            "Extracting EDF parameters from /content/drive/MyDrive/CSE424/Dataset/EEG/dataverse_files/s08.edf...\n",
            "EDF file detected\n",
            "Setting channel info structure...\n",
            "Creating raw.info structure...\n",
            "Reading 0 ... 227749  =      0.000 ...   910.996 secs...\n",
            "EEG channel type selected for re-referencing\n",
            "Applying average reference.\n",
            "Applying a custom ('EEG',) reference.\n",
            "Filtering raw data in 1 contiguous segment\n",
            "Setting up band-pass filter from 0.5 - 45 Hz\n",
            "\n",
            "FIR filter parameters\n",
            "---------------------\n",
            "Designing a one-pass, zero-phase, non-causal bandpass filter:\n",
            "- Windowed time-domain design (firwin) method\n",
            "- Hamming window with 0.0194 passband ripple and 53 dB stopband attenuation\n",
            "- Lower passband edge: 0.50\n",
            "- Lower transition bandwidth: 0.50 Hz (-6 dB cutoff frequency: 0.25 Hz)\n",
            "- Upper passband edge: 45.00 Hz\n",
            "- Upper transition bandwidth: 11.25 Hz (-6 dB cutoff frequency: 50.62 Hz)\n",
            "- Filter length: 1651 samples (6.604 s)\n",
            "\n",
            "Not setting metadata\n",
            "227 matching events found\n",
            "No baseline correction applied\n",
            "0 projection items activated\n",
            "Using data from preloaded Raw for 227 events and 1250 original time points ...\n"
          ]
        },
        {
          "output_type": "stream",
          "name": "stderr",
          "text": [
            "[Parallel(n_jobs=1)]: Done  17 tasks      | elapsed:    0.5s\n"
          ]
        },
        {
          "output_type": "stream",
          "name": "stdout",
          "text": [
            "0 bad epochs dropped\n",
            "Extracting EDF parameters from /content/drive/MyDrive/CSE424/Dataset/EEG/dataverse_files/s10.edf...\n",
            "EDF file detected\n",
            "Setting channel info structure...\n",
            "Creating raw.info structure...\n",
            "Reading 0 ... 212499  =      0.000 ...   849.996 secs...\n",
            "EEG channel type selected for re-referencing\n",
            "Applying average reference.\n",
            "Applying a custom ('EEG',) reference.\n",
            "Filtering raw data in 1 contiguous segment\n",
            "Setting up band-pass filter from 0.5 - 45 Hz\n",
            "\n",
            "FIR filter parameters\n",
            "---------------------\n",
            "Designing a one-pass, zero-phase, non-causal bandpass filter:\n",
            "- Windowed time-domain design (firwin) method\n",
            "- Hamming window with 0.0194 passband ripple and 53 dB stopband attenuation\n",
            "- Lower passband edge: 0.50\n",
            "- Lower transition bandwidth: 0.50 Hz (-6 dB cutoff frequency: 0.25 Hz)\n",
            "- Upper passband edge: 45.00 Hz\n",
            "- Upper transition bandwidth: 11.25 Hz (-6 dB cutoff frequency: 50.62 Hz)\n",
            "- Filter length: 1651 samples (6.604 s)\n",
            "\n",
            "Not setting metadata\n",
            "212 matching events found\n",
            "No baseline correction applied\n",
            "0 projection items activated\n",
            "Using data from preloaded Raw for 212 events and 1250 original time points ...\n"
          ]
        },
        {
          "output_type": "stream",
          "name": "stderr",
          "text": [
            "[Parallel(n_jobs=1)]: Done  17 tasks      | elapsed:    0.4s\n"
          ]
        },
        {
          "output_type": "stream",
          "name": "stdout",
          "text": [
            "0 bad epochs dropped\n",
            "Extracting EDF parameters from /content/drive/MyDrive/CSE424/Dataset/EEG/dataverse_files/s12.edf...\n",
            "EDF file detected\n",
            "Setting channel info structure...\n",
            "Creating raw.info structure...\n",
            "Reading 0 ... 271749  =      0.000 ...  1086.996 secs...\n",
            "EEG channel type selected for re-referencing\n",
            "Applying average reference.\n",
            "Applying a custom ('EEG',) reference.\n",
            "Filtering raw data in 1 contiguous segment\n",
            "Setting up band-pass filter from 0.5 - 45 Hz\n",
            "\n",
            "FIR filter parameters\n",
            "---------------------\n",
            "Designing a one-pass, zero-phase, non-causal bandpass filter:\n",
            "- Windowed time-domain design (firwin) method\n",
            "- Hamming window with 0.0194 passband ripple and 53 dB stopband attenuation\n",
            "- Lower passband edge: 0.50\n",
            "- Lower transition bandwidth: 0.50 Hz (-6 dB cutoff frequency: 0.25 Hz)\n",
            "- Upper passband edge: 45.00 Hz\n",
            "- Upper transition bandwidth: 11.25 Hz (-6 dB cutoff frequency: 50.62 Hz)\n",
            "- Filter length: 1651 samples (6.604 s)\n",
            "\n",
            "Not setting metadata\n",
            "271 matching events found\n",
            "No baseline correction applied\n",
            "0 projection items activated\n",
            "Using data from preloaded Raw for 271 events and 1250 original time points ...\n"
          ]
        },
        {
          "output_type": "stream",
          "name": "stderr",
          "text": [
            "[Parallel(n_jobs=1)]: Done  17 tasks      | elapsed:    0.3s\n"
          ]
        },
        {
          "output_type": "stream",
          "name": "stdout",
          "text": [
            "0 bad epochs dropped\n",
            "Extracting EDF parameters from /content/drive/MyDrive/CSE424/Dataset/EEG/dataverse_files/s14.edf...\n",
            "EDF file detected\n",
            "Setting channel info structure...\n",
            "Creating raw.info structure...\n",
            "Reading 0 ... 542499  =      0.000 ...  2169.996 secs...\n",
            "EEG channel type selected for re-referencing\n",
            "Applying average reference.\n",
            "Applying a custom ('EEG',) reference.\n",
            "Filtering raw data in 1 contiguous segment\n",
            "Setting up band-pass filter from 0.5 - 45 Hz\n",
            "\n",
            "FIR filter parameters\n",
            "---------------------\n",
            "Designing a one-pass, zero-phase, non-causal bandpass filter:\n",
            "- Windowed time-domain design (firwin) method\n",
            "- Hamming window with 0.0194 passband ripple and 53 dB stopband attenuation\n",
            "- Lower passband edge: 0.50\n",
            "- Lower transition bandwidth: 0.50 Hz (-6 dB cutoff frequency: 0.25 Hz)\n",
            "- Upper passband edge: 45.00 Hz\n",
            "- Upper transition bandwidth: 11.25 Hz (-6 dB cutoff frequency: 50.62 Hz)\n",
            "- Filter length: 1651 samples (6.604 s)\n",
            "\n",
            "Not setting metadata\n",
            "542 matching events found\n",
            "No baseline correction applied\n",
            "0 projection items activated\n",
            "Using data from preloaded Raw for 542 events and 1250 original time points ...\n"
          ]
        },
        {
          "output_type": "stream",
          "name": "stderr",
          "text": [
            "[Parallel(n_jobs=1)]: Done  17 tasks      | elapsed:    0.8s\n"
          ]
        },
        {
          "output_type": "stream",
          "name": "stdout",
          "text": [
            "0 bad epochs dropped\n",
            "Extracting EDF parameters from /content/drive/MyDrive/CSE424/Dataset/EEG/dataverse_files/s11.edf...\n",
            "EDF file detected\n",
            "Setting channel info structure...\n",
            "Creating raw.info structure...\n",
            "Reading 0 ... 339999  =      0.000 ...  1359.996 secs...\n",
            "EEG channel type selected for re-referencing\n",
            "Applying average reference.\n",
            "Applying a custom ('EEG',) reference.\n",
            "Filtering raw data in 1 contiguous segment\n",
            "Setting up band-pass filter from 0.5 - 45 Hz\n",
            "\n",
            "FIR filter parameters\n",
            "---------------------\n",
            "Designing a one-pass, zero-phase, non-causal bandpass filter:\n",
            "- Windowed time-domain design (firwin) method\n",
            "- Hamming window with 0.0194 passband ripple and 53 dB stopband attenuation\n",
            "- Lower passband edge: 0.50\n",
            "- Lower transition bandwidth: 0.50 Hz (-6 dB cutoff frequency: 0.25 Hz)\n",
            "- Upper passband edge: 45.00 Hz\n",
            "- Upper transition bandwidth: 11.25 Hz (-6 dB cutoff frequency: 50.62 Hz)\n",
            "- Filter length: 1651 samples (6.604 s)\n",
            "\n",
            "Not setting metadata\n",
            "339 matching events found\n",
            "No baseline correction applied\n",
            "0 projection items activated\n",
            "Using data from preloaded Raw for 339 events and 1250 original time points ...\n"
          ]
        },
        {
          "output_type": "stream",
          "name": "stderr",
          "text": [
            "[Parallel(n_jobs=1)]: Done  17 tasks      | elapsed:    0.4s\n"
          ]
        },
        {
          "output_type": "stream",
          "name": "stdout",
          "text": [
            "0 bad epochs dropped\n",
            "Extracting EDF parameters from /content/drive/MyDrive/CSE424/Dataset/EEG/dataverse_files/s13.edf...\n",
            "EDF file detected\n",
            "Setting channel info structure...\n",
            "Creating raw.info structure...\n",
            "Reading 0 ... 283749  =      0.000 ...  1134.996 secs...\n",
            "EEG channel type selected for re-referencing\n",
            "Applying average reference.\n",
            "Applying a custom ('EEG',) reference.\n",
            "Filtering raw data in 1 contiguous segment\n",
            "Setting up band-pass filter from 0.5 - 45 Hz\n",
            "\n",
            "FIR filter parameters\n",
            "---------------------\n",
            "Designing a one-pass, zero-phase, non-causal bandpass filter:\n",
            "- Windowed time-domain design (firwin) method\n",
            "- Hamming window with 0.0194 passband ripple and 53 dB stopband attenuation\n",
            "- Lower passband edge: 0.50\n",
            "- Lower transition bandwidth: 0.50 Hz (-6 dB cutoff frequency: 0.25 Hz)\n",
            "- Upper passband edge: 45.00 Hz\n",
            "- Upper transition bandwidth: 11.25 Hz (-6 dB cutoff frequency: 50.62 Hz)\n",
            "- Filter length: 1651 samples (6.604 s)\n",
            "\n",
            "Not setting metadata\n",
            "283 matching events found\n",
            "No baseline correction applied\n",
            "0 projection items activated\n",
            "Using data from preloaded Raw for 283 events and 1250 original time points ...\n"
          ]
        },
        {
          "output_type": "stream",
          "name": "stderr",
          "text": [
            "[Parallel(n_jobs=1)]: Done  17 tasks      | elapsed:    0.6s\n"
          ]
        },
        {
          "output_type": "stream",
          "name": "stdout",
          "text": [
            "0 bad epochs dropped\n"
          ]
        }
      ],
      "source": [
        "#no. of epochs , channels, length of singal\n",
        "control_epochs_array = [read_data(i) for i in healthy_file_path]\n",
        "patient_epochs_array = [read_data(i) for i in patient_file_path]"
      ]
    },
    {
      "cell_type": "code",
      "execution_count": null,
      "metadata": {
        "colab": {
          "base_uri": "https://localhost:8080/"
        },
        "id": "xm5DJK65j25R",
        "outputId": "7acdef93-e6a4-468f-bf32-ed77ac392dab"
      },
      "outputs": [
        {
          "output_type": "execute_result",
          "data": {
            "text/plain": [
              "(14, 14)"
            ]
          },
          "metadata": {},
          "execution_count": 9
        }
      ],
      "source": [
        "control_epoch_labels = [len(i)*[0] for i in control_epochs_array]\n",
        "patient_epoch_labels = [len(i)*[1] for i in patient_epochs_array]\n",
        "len(control_epochs_array),len(patient_epochs_array)"
      ]
    },
    {
      "cell_type": "code",
      "execution_count": null,
      "metadata": {
        "id": "CDrsY3UHdFIQ"
      },
      "outputs": [],
      "source": [
        "data_list = control_epochs_array + patient_epochs_array\n",
        "label_list = control_epoch_labels + patient_epoch_labels"
      ]
    },
    {
      "cell_type": "code",
      "execution_count": null,
      "metadata": {
        "colab": {
          "base_uri": "https://localhost:8080/"
        },
        "id": "yIhsJ_HQlh0d",
        "outputId": "5c1161be-a6d8-4514-d3f7-9039be6e7a3f"
      },
      "outputs": [
        {
          "output_type": "execute_result",
          "data": {
            "text/plain": [
              "28"
            ]
          },
          "metadata": {},
          "execution_count": 11
        }
      ],
      "source": [
        "group_list = [[i]*len(j) for i,j in enumerate(data_list)]\n",
        "len(group_list)"
      ]
    },
    {
      "cell_type": "code",
      "execution_count": null,
      "metadata": {
        "colab": {
          "base_uri": "https://localhost:8080/"
        },
        "id": "vXn-NvaVZ7lu",
        "outputId": "bea39f91-e6a6-48b5-e3a9-57b61cb5d631"
      },
      "outputs": [
        {
          "output_type": "stream",
          "name": "stdout",
          "text": [
            "(7201, 19, 1250) (7201,) (7201,)\n"
          ]
        }
      ],
      "source": [
        "data_array = np.vstack((data_list))\n",
        "label_array = np.hstack(label_list)\n",
        "group_array = np.hstack(group_list)\n",
        "print(data_array.shape, label_array.shape, group_array.shape)"
      ]
    },
    {
      "cell_type": "markdown",
      "source": [
        "**Necessary mathematical functions**"
      ],
      "metadata": {
        "id": "j-I7vjF455t2"
      }
    },
    {
      "cell_type": "code",
      "execution_count": null,
      "metadata": {
        "id": "Erxlz7hjuqfp"
      },
      "outputs": [],
      "source": [
        "from scipy import stats\n",
        "def mean(data):\n",
        "    return np.mean(data,axis=-1)\n",
        "def std(data):\n",
        "    return np.std(data,axis=-1)\n",
        "def ptp(data):\n",
        "    return np.ptp(data,axis=-1)\n",
        "def var(data):\n",
        "        return np.var(data,axis=-1)\n",
        "def minim(data):\n",
        "      return np.min(data,axis=-1)\n",
        "def maxim(data):\n",
        "      return np.max(data,axis=-1)\n",
        "def argminim(data):\n",
        "      return np.argmin(data,axis=-1)\n",
        "def argmaxim(data):\n",
        "      return np.argmax(data,axis=-1)\n",
        "def mean_square(data):\n",
        "      return np.mean(data**2,axis=-1)\n",
        "def rms(data):\n",
        "      return  np.sqrt(np.mean(data**2,axis=-1))\n",
        "def abs_diffs_signal(data):\n",
        "    return np.sum(np.abs(np.diff(data,axis=-1)),axis=-1)\n",
        "def skewness(data):\n",
        "    return stats.skew(data,axis=-1)\n",
        "def kurtosis(data):\n",
        "    return stats.kurtosis(data,axis=-1)\n",
        "def concatenate_features(data):\n",
        "    return np.concatenate((mean(data),std(data),ptp(data),var(data),minim(data),maxim(data),argminim(data),argmaxim(data),mean_square(data),rms(data),abs_diffs_signal(data),skewness(data),kurtosis(data)),axis=-1)"
      ]
    },
    {
      "cell_type": "markdown",
      "source": [
        "**Feature array**"
      ],
      "metadata": {
        "id": "xEfF-Eik6Fwl"
      }
    },
    {
      "cell_type": "code",
      "execution_count": null,
      "metadata": {
        "colab": {
          "base_uri": "https://localhost:8080/",
          "height": 138,
          "referenced_widgets": [
            "0cebe27221bd4d32b09dc662f9ab4156",
            "37b4db741ffd48658f49458737e2e579",
            "46aa90f4581e4c75a5ef47a78a5a7aaa",
            "342f2cfb75714d1ba13a794daf8d8374",
            "86e8ba2dcd12458cada0709b15ff5a51",
            "8bb25f843f834bbfac44f8e74e9e6cb8",
            "b1f134e8224d4631b6fd4952e06a7200",
            "2d265eb6a9b44ab5bc102aefae9e0df1",
            "68259cc0aa894aef9209bc6ef069e515",
            "7121ee2603494df5b224e4ab51dfd97b",
            "3cd2a1ca3f694e81a5f290e7b653be7a"
          ]
        },
        "id": "BjdvX6JNaRFl",
        "outputId": "354ca5fc-8615-4e57-b7ed-66dcf8dc7c6c"
      },
      "outputs": [
        {
          "output_type": "stream",
          "name": "stderr",
          "text": [
            "<ipython-input-14-69f2cdc0fdb1>:3: TqdmDeprecationWarning: This function will be removed in tqdm==5.0.0\n",
            "Please use `tqdm.notebook.tqdm` instead of `tqdm.tqdm_notebook`\n",
            "  for data in tqdm_notebook(data_array):\n"
          ]
        },
        {
          "output_type": "display_data",
          "data": {
            "text/plain": [
              "  0%|          | 0/7201 [00:00<?, ?it/s]"
            ],
            "application/vnd.jupyter.widget-view+json": {
              "version_major": 2,
              "version_minor": 0,
              "model_id": "0cebe27221bd4d32b09dc662f9ab4156"
            }
          },
          "metadata": {}
        },
        {
          "output_type": "execute_result",
          "data": {
            "text/plain": [
              "(7201, 247)"
            ]
          },
          "metadata": {},
          "execution_count": 14
        }
      ],
      "source": [
        "from tqdm import tqdm_notebook\n",
        "features=[]\n",
        "for data in tqdm_notebook(data_array):\n",
        "    features.append(concatenate_features(data))\n",
        "features=np.array(features)\n",
        "features.shape"
      ]
    },
    {
      "cell_type": "markdown",
      "source": [
        "# EEG graph plot"
      ],
      "metadata": {
        "id": "b4mTLCFEmF8N"
      }
    },
    {
      "cell_type": "code",
      "source": [
        "import matplotlib.pyplot as plt\n",
        "import numpy as np\n",
        "\n",
        "fs = 250 #sampling rate\n",
        "t = np.arange(0, 10, 1/fs)\n",
        "eeg_signal = 50 * np.sin(2 * np.pi * 10 * t) + 20 * np.sin(2 * np.pi * 5 * t) + 10 * np.random.randn(len(t))\n",
        "\n",
        "\n",
        "plt.figure(figsize=(12, 6))\n",
        "plt.plot(t, eeg_signal, color='blue')\n",
        "plt.title('EEG Signal')\n",
        "plt.xlabel('Time (s)')\n",
        "plt.ylabel('Amplitude (uV)')\n",
        "plt.grid(True)\n",
        "plt.show()\n"
      ],
      "metadata": {
        "colab": {
          "base_uri": "https://localhost:8080/",
          "height": 564
        },
        "id": "-dCZqj_hltTd",
        "outputId": "dfc19e0a-86c8-4bf9-d29b-5f70e47ae0ee"
      },
      "execution_count": null,
      "outputs": [
        {
          "output_type": "display_data",
          "data": {
            "text/plain": [
              "<Figure size 1200x600 with 1 Axes>"
            ],
            "image/png": "[encoded data removed]"
          },
          "metadata": {}
        }
      ]
    },
    {
      "cell_type": "markdown",
      "source": [
        "# Classification models"
      ],
      "metadata": {
        "id": "bbcpHIu6iaWe"
      }
    },
    {
      "cell_type": "markdown",
      "source": [
        "# Logistic Regression"
      ],
      "metadata": {
        "id": "GElD8jD2ja-Z"
      }
    },
    {
      "cell_type": "code",
      "source": [
        "from sklearn.linear_model import LogisticRegression\n",
        "from sklearn.pipeline import Pipeline\n",
        "from sklearn.preprocessing import StandardScaler\n",
        "from sklearn.model_selection import GroupKFold,GridSearchCV,cross_val_score,cross_validate\n",
        "\n",
        "clf=LogisticRegression()\n",
        "gkf=GroupKFold(n_splits=5)\n",
        "\n",
        "param_grid_lor = {'classifier__C': [0.01,0.05,0.1,0.5, 1,2,3,4,5,8, 10,12,15]}\n",
        "\n",
        "pipe_lor =Pipeline([('scaler',StandardScaler()),('classifier',clf)])\n",
        "\n",
        "gscv_lor = GridSearchCV(pipe_lor,param_grid_lor,cv=gkf,n_jobs=16)\n",
        "gscv_lor.fit(features,label_array,groups=group_array)\n",
        "\n",
        "predictions_lor = gscv_lor.predict(features)\n",
        "accuracy_lor = metrics.accuracy_score(label_array, predictions_lor)\n",
        "precision_lor = metrics.precision_score(label_array, predictions_lor)\n",
        "recall_lor = metrics.recall_score(label_array, predictions_lor)\n",
        "\n",
        "print(\"Accuracy: \", accuracy_lor)\n",
        "print(\"Precision: \", precision_lor)\n",
        "print(\"Recall: \", recall_lor)"
      ],
      "metadata": {
        "colab": {
          "base_uri": "https://localhost:8080/"
        },
        "id": "jEGyB9N4jjgG",
        "outputId": "da8a4c08-a9e3-47d6-88d9-8518c906c34b"
      },
      "execution_count": null,
      "outputs": [
        {
          "output_type": "stream",
          "name": "stdout",
          "text": [
            "Accuracy:  0.9040411054020275\n",
            "Precision:  0.9170719221909394\n",
            "Recall:  0.9070886075949367\n"
          ]
        },
        {
          "output_type": "stream",
          "name": "stderr",
          "text": [
            "/usr/local/lib/python3.10/dist-packages/sklearn/linear_model/_logistic.py:458: ConvergenceWarning: lbfgs failed to converge (status=1):\n",
            "STOP: TOTAL NO. of ITERATIONS REACHED LIMIT.\n",
            "\n",
            "Increase the number of iterations (max_iter) or scale the data as shown in:\n",
            "    https://scikit-learn.org/stable/modules/preprocessing.html\n",
            "Please also refer to the documentation for alternative solver options:\n",
            "    https://scikit-learn.org/stable/modules/linear_model.html#logistic-regression\n",
            "  n_iter_i = _check_optimize_result(\n"
          ]
        }
      ]
    },
    {
      "cell_type": "markdown",
      "metadata": {
        "id": "-xPX26H4ejNy"
      },
      "source": [
        "# KNN"
      ]
    },
    {
      "cell_type": "code",
      "execution_count": null,
      "metadata": {
        "colab": {
          "base_uri": "https://localhost:8080/"
        },
        "id": "CVpZf_HHcK3K",
        "outputId": "e9e81c92-aed3-47e3-dcf5-c5c562714eb6"
      },
      "outputs": [
        {
          "output_type": "stream",
          "name": "stdout",
          "text": [
            "KNN - Accuracy:  0.8391890015275656\n",
            "KNN - Precision:  0.8391642371234208\n",
            "KNN - Recall:  0.8744303797468355\n"
          ]
        }
      ],
      "source": [
        "from sklearn.neighbors import KNeighborsClassifier\n",
        "from sklearn.preprocessing import StandardScaler\n",
        "from sklearn.model_selection import GridSearchCV, GroupKFold, train_test_split\n",
        "from sklearn.pipeline import Pipeline\n",
        "from sklearn import metrics\n",
        "\n",
        "clf_knn = KNeighborsClassifier()\n",
        "\n",
        "pipe_knn = Pipeline([('scaler', StandardScaler()), ('clf', clf_knn)])\n",
        "\n",
        "\n",
        "param_grid_knn = {'clf__n_neighbors': [3, 5, 7, 9]}\n",
        "\n",
        "gkf_knn = GroupKFold(n_splits=5)\n",
        "\n",
        "\n",
        "gscv_knn = GridSearchCV(pipe_knn, param_grid_knn, cv=gkf_knn, n_jobs=12)\n",
        "gscv_knn.fit(features, label_array, groups=group_array)\n",
        "\n",
        "\n",
        "predictions_knn = gscv_knn.predict(features)\n",
        "accuracy_knn = metrics.accuracy_score(label_array, predictions_knn)\n",
        "precision_knn = metrics.precision_score(label_array, predictions_knn)\n",
        "recall_knn = metrics.recall_score(label_array, predictions_knn)\n",
        "\n",
        "print(\"KNN - Accuracy: \", accuracy_knn)\n",
        "print(\"KNN - Precision: \", precision_knn)\n",
        "print(\"KNN - Recall: \", recall_knn)\n",
        "\n"
      ]
    },
    {
      "cell_type": "markdown",
      "metadata": {
        "id": "hIz8q7bbefEu"
      },
      "source": [
        "# SVM"
      ]
    },
    {
      "cell_type": "markdown",
      "source": [
        "**Linear kernal**"
      ],
      "metadata": {
        "id": "v80a_PBT40lS"
      }
    },
    {
      "cell_type": "code",
      "source": [
        "clf_svm_linear = SVC(kernel='linear')\n",
        "\n",
        "\n",
        "pipe_svm_linear = Pipeline([('scaler', StandardScaler()), ('clf', clf_svm_linear)])\n",
        "\n",
        "\n",
        "param_grid_svm_linear = {'clf__C': [0.1, 0.5, 1, 2, 5, 10]}\n",
        "\n",
        "# cross-validation with 5 folds\n",
        "gkf_svm_linear = GroupKFold(n_splits=5)\n",
        "\n",
        "gscv_svm_linear = GridSearchCV(pipe_svm_linear, param_grid_svm_linear, cv=gkf_svm_linear, n_jobs=12)\n",
        "gscv_svm_linear.fit(features, label_array, groups=group_array)\n",
        "\n",
        "predictions_svm_linear = gscv_svm_linear.predict(features)\n",
        "accuracy_svm_linear = metrics.accuracy_score(label_array, predictions_svm_linear)\n",
        "precision_svm_linear = metrics.precision_score(label_array, predictions_svm_linear)\n",
        "recall_svm_linear = metrics.recall_score(label_array, predictions_svm_linear)\n",
        "\n",
        "print(\"Accuracy SVM linear: \", accuracy_svm_linear)\n",
        "print(\"Precision SVM Linear: \", precision_svm_linear)\n",
        "print(\"Recall SVM Linear: \", recall_svm_linear)"
      ],
      "metadata": {
        "colab": {
          "base_uri": "https://localhost:8080/"
        },
        "id": "j_ZabSdP4uXz",
        "outputId": "b6af2b7f-afd3-41fc-ed5a-618ed9df0d63"
      },
      "execution_count": null,
      "outputs": [
        {
          "output_type": "stream",
          "name": "stdout",
          "text": [
            "Accuracy SVM linear:  0.9201499791695598\n",
            "Precision SVM Linear:  0.9321382842509603\n",
            "Recall SVM Linear:  0.9215189873417722\n"
          ]
        }
      ]
    },
    {
      "cell_type": "markdown",
      "source": [
        "**RBF kernal**"
      ],
      "metadata": {
        "id": "0PoY8GIw46oj"
      }
    },
    {
      "cell_type": "code",
      "execution_count": null,
      "metadata": {
        "colab": {
          "base_uri": "https://localhost:8080/"
        },
        "id": "BooydUM0ZC3j",
        "outputId": "af000ab4-37ac-40de-c7e8-1ece770bff11"
      },
      "outputs": [
        {
          "output_type": "stream",
          "name": "stdout",
          "text": [
            "Accuracy SVM rbf:  0.9655603388418276\n",
            "Precision SVM rbf:  0.9748589020010262\n",
            "Recall SVM rbf:  0.9620253164556962\n"
          ]
        }
      ],
      "source": [
        "\n",
        "clf_svm_rbf = SVC(kernel='rbf')\n",
        "\n",
        "\n",
        "pipe_svm_rbf = Pipeline([('scaler', StandardScaler()), ('clf', clf_svm_rbf)])\n",
        "\n",
        "\n",
        "param_grid_svm_rbf = {'clf__C': [0.1, 0.5, 1, 2, 5, 10]}\n",
        "\n",
        "# cross-validation with 5 folds\n",
        "gkf_svm_rbf = GroupKFold(n_splits=5)\n",
        "\n",
        "\n",
        "gscv_svm_rbf = GridSearchCV(pipe_svm_rbf, param_grid_svm_rbf, cv=gkf_svm_rbf, n_jobs=12)\n",
        "gscv_svm_rbf.fit(features, label_array, groups=group_array)\n",
        "\n",
        "\n",
        "predictions_svm_rbf = gscv_svm_rbf.predict(features)\n",
        "accuracy_svm_rbf = metrics.accuracy_score(label_array, predictions_svm_rbf)\n",
        "precision_svm_rbf = metrics.precision_score(label_array, predictions_svm_rbf)\n",
        "recall_svm_rbf = metrics.recall_score(label_array, predictions_svm_rbf)\n",
        "\n",
        "print(\"Accuracy SVM rbf: \", accuracy_svm_rbf)\n",
        "print(\"Precision SVM rbf: \", precision_svm_rbf)\n",
        "print(\"Recall SVM rbf: \", recall_svm_rbf)"
      ]
    },
    {
      "cell_type": "markdown",
      "source": [
        "# Regression Models"
      ],
      "metadata": {
        "id": "uyDBHyskiE7k"
      }
    },
    {
      "cell_type": "markdown",
      "source": [
        "# Train Test Split\n"
      ],
      "metadata": {
        "id": "0K631_TAbbsX"
      }
    },
    {
      "cell_type": "code",
      "source": [
        "from sklearn.ensemble import RandomForestClassifier\n",
        "from sklearn.model_selection import train_test_split\n",
        "from sklearn import metrics\n",
        "from sklearn.metrics import accuracy_score, precision_score, recall_score\n",
        "import numpy as np\n",
        "\n",
        "# As using 5 fold cross validation resulted in overfitting, we willl use train test split for regression models\n",
        "\n",
        "x_train, x_test, y_train, y_test = train_test_split(features, label_array, test_size=0.2, random_state=42)"
      ],
      "metadata": {
        "id": "ciYhfPnlaZQv"
      },
      "execution_count": null,
      "outputs": []
    },
    {
      "cell_type": "markdown",
      "source": [
        "# Random Forest"
      ],
      "metadata": {
        "id": "-YMpHM55KBOg"
      }
    },
    {
      "cell_type": "code",
      "source": [
        "clf_rf = RandomForestClassifier(n_estimators=100, random_state=42)\n",
        "\n",
        "clf_rf.fit(x_train, y_train)\n",
        "\n",
        "predictions_rf = clf_rf.predict(x_test)\n",
        "\n",
        "accuracy_rf = accuracy_score(y_test, predictions_rf)\n",
        "precision_rf = precision_score(y_test, predictions_rf)\n",
        "recall_rf = recall_score(y_test, predictions_rf)\n",
        "\n",
        "print(\"Random Forest - Accuracy: \", accuracy_rf)\n",
        "print(\"Random Forest - Precision: \", precision_rf)\n",
        "print(\"Random Forest - Recall: \", recall_rf)\n",
        "\n"
      ],
      "metadata": {
        "colab": {
          "base_uri": "https://localhost:8080/"
        },
        "id": "K5yucoiGJ-5J",
        "outputId": "ff1790d8-971f-4932-8659-1f6d747d5ae0"
      },
      "execution_count": null,
      "outputs": [
        {
          "output_type": "stream",
          "name": "stdout",
          "text": [
            "Random Forest - Accuracy:  0.9604441360166551\n",
            "Random Forest - Precision:  0.9501246882793017\n",
            "Random Forest - Recall:  0.9781771501925546\n"
          ]
        }
      ]
    },
    {
      "cell_type": "markdown",
      "source": [
        "# Gradient Boosting (XGboost)"
      ],
      "metadata": {
        "id": "O3zTVEbqKXC4"
      }
    },
    {
      "cell_type": "code",
      "source": [
        "pip install scikit-learn xgboost"
      ],
      "metadata": {
        "colab": {
          "base_uri": "https://localhost:8080/"
        },
        "id": "CkbC9XjEKi1l",
        "outputId": "59ec806f-41c7-4468-fe5f-1f9ff65f5f34"
      },
      "execution_count": null,
      "outputs": [
        {
          "output_type": "stream",
          "name": "stdout",
          "text": [
            "Requirement already satisfied: scikit-learn in /usr/local/lib/python3.10/dist-packages (1.2.2)\n",
            "Requirement already satisfied: xgboost in /usr/local/lib/python3.10/dist-packages (2.0.2)\n",
            "Requirement already satisfied: numpy>=1.17.3 in /usr/local/lib/python3.10/dist-packages (from scikit-learn) (1.23.5)\n",
            "Requirement already satisfied: scipy>=1.3.2 in /usr/local/lib/python3.10/dist-packages (from scikit-learn) (1.11.4)\n",
            "Requirement already satisfied: joblib>=1.1.1 in /usr/local/lib/python3.10/dist-packages (from scikit-learn) (1.3.2)\n",
            "Requirement already satisfied: threadpoolctl>=2.0.0 in /usr/local/lib/python3.10/dist-packages (from scikit-learn) (3.2.0)\n"
          ]
        }
      ]
    },
    {
      "cell_type": "code",
      "source": [
        "import xgboost as xgb\n",
        "\n",
        "\n",
        "clf_xgb = xgb.XGBClassifier(objective='binary:logistic', random_state=42)\n",
        "\n",
        "\n",
        "clf_xgb.fit(x_train, y_train)\n",
        "\n",
        "\n",
        "predictions_xgb = clf_xgb.predict(x_test)\n",
        "\n",
        "accuracy_xgb = accuracy_score(y_test, predictions_xgb)\n",
        "precision_xgb = precision_score(y_test, predictions_xgb)\n",
        "recall_xgb = recall_score(y_test, predictions_xgb)\n",
        "\n",
        "print(\"\\nXGBoost - Accuracy: \", accuracy_xgb)\n",
        "print(\"XGBoost - Precision: \", precision_xgb)\n",
        "print(\"XGBoost - Recall: \", recall_xgb)\n"
      ],
      "metadata": {
        "colab": {
          "base_uri": "https://localhost:8080/"
        },
        "id": "YQDUhl7vKV_U",
        "outputId": "13ee8517-a779-4dee-f5eb-4eab0f50dd89"
      },
      "execution_count": null,
      "outputs": [
        {
          "output_type": "stream",
          "name": "stdout",
          "text": [
            "\n",
            "XGBoost - Accuracy:  0.9736294240111034\n",
            "XGBoost - Precision:  0.975609756097561\n",
            "XGBoost - Recall:  0.975609756097561\n"
          ]
        }
      ]
    },
    {
      "cell_type": "markdown",
      "source": [
        "# Decision Tree"
      ],
      "metadata": {
        "id": "DFGuIjBuKlk3"
      }
    },
    {
      "cell_type": "code",
      "source": [
        "from sklearn.tree import DecisionTreeClassifier\n",
        "\n",
        "\n",
        "clf_dt = DecisionTreeClassifier(random_state=42)\n",
        "\n",
        "clf_dt.fit(x_train, y_train)\n",
        "\n",
        "predictions_dt = clf_dt.predict(x_test)\n",
        "\n",
        "accuracy_dt = accuracy_score(y_test, predictions_dt)\n",
        "precision_dt = precision_score(y_test, predictions_dt)\n",
        "recall_dt = recall_score(y_test, predictions_dt)\n",
        "\n",
        "print(\"\\nDecision Tree - Accuracy: \", accuracy_dt)\n",
        "print(\"Decision Tree - Precision: \", precision_dt)\n",
        "print(\"Decision Tree - Recall: \", recall_dt)\n"
      ],
      "metadata": {
        "colab": {
          "base_uri": "https://localhost:8080/"
        },
        "id": "pjmUK4zBKs4A",
        "outputId": "f690eefb-36ee-4441-d67a-578d06e9063a"
      },
      "execution_count": null,
      "outputs": [
        {
          "output_type": "stream",
          "name": "stdout",
          "text": [
            "\n",
            "Decision Tree - Accuracy:  0.8834142956280361\n",
            "Decision Tree - Precision:  0.8983050847457628\n",
            "Decision Tree - Recall:  0.8844672657252889\n"
          ]
        }
      ]
    },
    {
      "cell_type": "markdown",
      "source": [
        "# Deep Learning"
      ],
      "metadata": {
        "id": "nqGwoIDCkxzc"
      }
    },
    {
      "cell_type": "markdown",
      "metadata": {
        "id": "rASsOW1TfbsG"
      },
      "source": [
        "# CNN"
      ]
    },
    {
      "cell_type": "code",
      "execution_count": null,
      "metadata": {
        "colab": {
          "base_uri": "https://localhost:8080/"
        },
        "id": "BIHvvLDIfawq",
        "outputId": "83df6290-d03f-4f54-cbec-ad8213352123"
      },
      "outputs": [
        {
          "output_type": "stream",
          "name": "stdout",
          "text": [
            "(7201, 1250, 19) (7201,) (7201,)\n"
          ]
        }
      ],
      "source": [
        "data_array = np.vstack(data_list)\n",
        "label_array = np.hstack(label_list)\n",
        "group_array = np.hstack(group_list)\n",
        "data_array = np.moveaxis(data_array,1,2)\n",
        "print(data_array.shape,label_array.shape,group_array.shape)"
      ]
    },
    {
      "cell_type": "code",
      "source": [
        "from tensorflow.keras.models import Sequential\n",
        "from tensorflow.keras.layers import Conv1D, BatchNormalization, LeakyReLU, MaxPooling1D, Dropout, Dense, Flatten, MaxPool1D, GlobalAveragePooling1D, Dense, Dropout, AveragePooling1D\n",
        "from tensorflow.keras.backend import clear_session\n",
        "from sklearn.model_selection import GroupKFold\n",
        "from sklearn.preprocessing import StandardScaler\n",
        "from tensorflow.keras.callbacks import EarlyStopping\n",
        "\n",
        "def cnn_model():\n",
        "    model = Sequential()\n",
        "\n",
        "    # Block 1\n",
        "    model.add(Conv1D(filters=32, kernel_size=5, strides=1, input_shape=(1250, 19)))\n",
        "    model.add(BatchNormalization())\n",
        "    model.add(LeakyReLU())\n",
        "    model.add(MaxPooling1D(pool_size=2, strides=2))\n",
        "    model.add(Dropout(0.3))\n",
        "\n",
        "    # Block 2\n",
        "    model.add(Conv1D(filters=64, kernel_size=3, strides=1))\n",
        "    model.add(BatchNormalization())\n",
        "    model.add(LeakyReLU())\n",
        "    model.add(MaxPooling1D(pool_size=2, strides=2))\n",
        "    model.add(Dropout(0.3))\n",
        "\n",
        "    # Block 3\n",
        "    model.add(Conv1D(filters=128, kernel_size=3, strides=1))\n",
        "    model.add(BatchNormalization())\n",
        "    model.add(LeakyReLU())\n",
        "    model.add(MaxPooling1D(pool_size=2, strides=2))\n",
        "    model.add(Dropout(0.3))\n",
        "\n",
        "    # Flatten and Dense layers\n",
        "    model.add(Flatten())\n",
        "    model.add(Dense(256, activation='relu'))\n",
        "    model.add(Dropout(0.5))\n",
        "    model.add(Dense(1, activation='sigmoid'))\n",
        "\n",
        "    model.compile(optimizer='adam', loss='binary_crossentropy', metrics=['accuracy'])\n",
        "\n",
        "    return model\n",
        "\n",
        "model = cnn_model()\n",
        "model.summary()"
      ],
      "metadata": {
        "colab": {
          "base_uri": "https://localhost:8080/"
        },
        "id": "7doNKKBrkufP",
        "outputId": "8c306e10-53b3-48ad-cddd-6e08097e5654"
      },
      "execution_count": null,
      "outputs": [
        {
          "output_type": "stream",
          "name": "stdout",
          "text": [
            "Model: \"sequential\"\n",
            "_________________________________________________________________\n",
            " Layer (type)                Output Shape              Param #   \n",
            "=================================================================\n",
            " conv1d (Conv1D)             (None, 1246, 32)          3072      \n",
            "                                                                 \n",
            " batch_normalization (Batch  (None, 1246, 32)          128       \n",
            " Normalization)                                                  \n",
            "                                                                 \n",
            " leaky_re_lu (LeakyReLU)     (None, 1246, 32)          0         \n",
            "                                                                 \n",
            " max_pooling1d (MaxPooling1  (None, 623, 32)           0         \n",
            " D)                                                              \n",
            "                                                                 \n",
            " dropout (Dropout)           (None, 623, 32)           0         \n",
            "                                                                 \n",
            " conv1d_1 (Conv1D)           (None, 621, 64)           6208      \n",
            "                                                                 \n",
            " batch_normalization_1 (Bat  (None, 621, 64)           256       \n",
            " chNormalization)                                                \n",
            "                                                                 \n",
            " leaky_re_lu_1 (LeakyReLU)   (None, 621, 64)           0         \n",
            "                                                                 \n",
            " max_pooling1d_1 (MaxPoolin  (None, 310, 64)           0         \n",
            " g1D)                                                            \n",
            "                                                                 \n",
            " dropout_1 (Dropout)         (None, 310, 64)           0         \n",
            "                                                                 \n",
            " conv1d_2 (Conv1D)           (None, 308, 128)          24704     \n",
            "                                                                 \n",
            " batch_normalization_2 (Bat  (None, 308, 128)          512       \n",
            " chNormalization)                                                \n",
            "                                                                 \n",
            " leaky_re_lu_2 (LeakyReLU)   (None, 308, 128)          0         \n",
            "                                                                 \n",
            " max_pooling1d_2 (MaxPoolin  (None, 154, 128)          0         \n",
            " g1D)                                                            \n",
            "                                                                 \n",
            " dropout_2 (Dropout)         (None, 154, 128)          0         \n",
            "                                                                 \n",
            " flatten (Flatten)           (None, 19712)             0         \n",
            "                                                                 \n",
            " dense (Dense)               (None, 256)               5046528   \n",
            "                                                                 \n",
            " dropout_3 (Dropout)         (None, 256)               0         \n",
            "                                                                 \n",
            " dense_1 (Dense)             (None, 1)                 257       \n",
            "                                                                 \n",
            "=================================================================\n",
            "Total params: 5081665 (19.39 MB)\n",
            "Trainable params: 5081217 (19.38 MB)\n",
            "Non-trainable params: 448 (1.75 KB)\n",
            "_________________________________________________________________\n"
          ]
        }
      ]
    },
    {
      "cell_type": "code",
      "source": [
        "from sklearn.model_selection import train_test_split\n",
        "\n",
        "accuracy_cnn = []\n",
        "loss = []\n",
        "\n",
        "x_train, x_test, y_train, y_test = train_test_split(data_array, label_array, test_size=0.2, random_state=42)\n",
        "\n",
        "scaler = StandardScaler()\n",
        "x_train = scaler.fit_transform(x_train.reshape(-1, x_train.shape[-1])).reshape(x_train.shape)\n",
        "x_test = scaler.transform(x_test.reshape(-1, x_test.shape[-1])).reshape(x_test.shape)\n",
        "\n",
        "\n",
        "model.fit(x_train, y_train, epochs=3, batch_size=10, validation_data=(x_test, y_test))\n",
        "\n",
        "eval_results = model.evaluate(x_test, y_test)\n",
        "accuracy_cnn =eval_results[1]\n",
        "loss=eval_results[0]\n",
        "print(f\"Test Loss: {loss}\\n Test Accuracy: {accuracy_cnn}\")\n"
      ],
      "metadata": {
        "colab": {
          "base_uri": "https://localhost:8080/"
        },
        "id": "Qd4BmAPxtPKk",
        "outputId": "0141a58c-9bbf-4552-e4a1-9e98562ef734"
      },
      "execution_count": null,
      "outputs": [
        {
          "output_type": "stream",
          "name": "stdout",
          "text": [
            "Epoch 1/3\n",
            "576/576 [==============================] - 86s 150ms/step - loss: 0.1196 - accuracy: 0.9615 - val_loss: 0.1463 - val_accuracy: 0.9903\n",
            "Epoch 2/3\n",
            "576/576 [==============================] - 67s 117ms/step - loss: 0.1005 - accuracy: 0.9665 - val_loss: 0.1844 - val_accuracy: 0.9639\n",
            "Epoch 3/3\n",
            "576/576 [==============================] - 66s 114ms/step - loss: 0.1009 - accuracy: 0.9658 - val_loss: 0.1946 - val_accuracy: 0.9500\n",
            "46/46 [==============================] - 2s 38ms/step - loss: 0.1946 - accuracy: 0.9500\n",
            "Test Loss: 0.19456012547016144\n",
            " Test Accuracy: 0.9500346779823303\n"
          ]
        }
      ]
    },
    {
      "cell_type": "markdown",
      "source": [
        "# Accuracy plot"
      ],
      "metadata": {
        "id": "yGPcpSsUQK1n"
      }
    },
    {
      "cell_type": "code",
      "source": [
        "import matplotlib.pyplot as plt\n",
        "import numpy as np\n",
        "\n",
        "\n",
        "accuracy_values = [accuracy_lor, accuracy_knn, accuracy_svm_linear, accuracy_svm_rbf, accuracy_rf, accuracy_xgb, accuracy_dt, accuracy_cnn]\n",
        "models = ['LoR', 'KNN', 'SVM(Linear)', 'SVM(rbf)', 'Random Forest', 'XGBoost', 'Decision Tree', 'CNN']\n",
        "\n",
        "bar_width = 0.8\n",
        "\n",
        "plt.bar(bar_positions, accuracy_values, color=['blue', 'green', 'red', 'yellow', 'purple', 'orange', 'violet', 'grey'], width=bar_width)\n",
        "plt.xticks(bar_positions, models, rotation='vertical')\n",
        "plt.ylabel('Accuracy')\n",
        "plt.title('Model Accuracy Comparison')\n",
        "plt.ylim([0, 1])\n",
        "\n",
        "for i, value in zip(bar_positions, accuracy_values):\n",
        "    plt.text(i, value + 0.01, f'{value:.2f}', ha='center')\n",
        "\n",
        "plt.show()\n",
        "\n"
      ],
      "metadata": {
        "colab": {
          "base_uri": "https://localhost:8080/",
          "height": 543
        },
        "id": "up6ZwPzJMXQ6",
        "outputId": "83fde557-2381-44b3-c554-f2de361c4e18"
      },
      "execution_count": null,
      "outputs": [
        {
          "output_type": "display_data",
          "data": {
            "text/plain": [
              "<Figure size 640x480 with 1 Axes>"
            ],
            "image/png": "[encoded data removed]"
          },
          "metadata": {}
        }
      ]
    },
    {
      "cell_type": "code",
      "source": [
        "from sklearn.metrics import confusion_matrix, classification_report\n",
        "import pandas as pd\n",
        "\n",
        "# Function to print confusion matrix and classification report\n",
        "def print_evaluation_metrics(y_true, y_pred, model_name):\n",
        "    cm = confusion_matrix(y_true, y_pred)\n",
        "    report = classification_report(y_true, y_pred)\n",
        "\n",
        "    print(f\"\\nConfusion Matrix for {model_name}:\\n{cm}\\n\")\n",
        "    print(f\"Classification Report for {model_name}:\\n{report}\\n\")\n",
        "\n",
        "# Confusion matrices and classification reports for all models\n",
        "models = ['Logistic Regression', 'K-Nearest Neighbors', 'SVM (Linear)', 'SVM (RBF)', 'Random Forest', 'XGBoost', 'Decision Tree', 'CNN']\n",
        "\n",
        "for i, model in enumerate([gscv_lor, gscv_knn, gscv_svm_linear, gscv_svm_rbf, clf_rf, clf_xgb, clf_dt, model]):\n",
        "    if i < 7:\n",
        "        y_pred = model.predict(features)\n",
        "        print_evaluation_metrics(label_array, y_pred, models[i])\n",
        "    else:\n",
        "        y_pred_cnn = model.predict(x_test)\n",
        "        y_pred_cnn_binary = (y_pred_cnn > 0.5).astype(int)\n",
        "        print_evaluation_metrics(y_test, y_pred_cnn_binary, models[i])\n",
        "\n",
        "# Create a result table\n",
        "precision_recall_accuracy = []\n",
        "\n",
        "for i, model in enumerate([gscv_lor, gscv_knn, gscv_svm_linear, gscv_svm_rbf, clf_rf, clf_xgb, clf_dt, model]):\n",
        "    if i < 7:\n",
        "        y_pred = model.predict(features)\n",
        "        accuracy = metrics.accuracy_score(label_array, y_pred)\n",
        "        precision = metrics.precision_score(label_array, y_pred)\n",
        "        recall = metrics.recall_score(label_array, y_pred)\n",
        "        precision_recall_accuracy.append([models[i], precision, recall, accuracy])\n",
        "    else:\n",
        "        y_pred_cnn = model.predict(x_test)\n",
        "        y_pred_cnn_binary = (y_pred_cnn > 0.5).astype(int)\n",
        "        accuracy_cnn = metrics.accuracy_score(y_test, y_pred_cnn_binary)\n",
        "        precision_cnn = metrics.precision_score(y_test, y_pred_cnn_binary)\n",
        "        recall_cnn = metrics.recall_score(y_test, y_pred_cnn_binary)\n",
        "        precision_recall_accuracy.append(['CNN', precision_cnn, recall_cnn, accuracy_cnn])\n",
        "\n",
        "result_table = pd.DataFrame(precision_recall_accuracy, columns=['Model', 'Precision', 'Recall', 'Accuracy'])\n",
        "print(\"\\nResult Table:\\n\", result_table)\n"
      ],
      "metadata": {
        "id": "ZK2FFhU568YF",
        "outputId": "e43a34cd-1ba1-4ff3-b615-c362b98df6e3",
        "colab": {
          "base_uri": "https://localhost:8080/",
          "height": 245
        }
      },
      "execution_count": null,
      "outputs": [
        {
          "output_type": "error",
          "ename": "NameError",
          "evalue": "ignored",
          "traceback": [
            "\u001b[0;31m---------------------------------------------------------------------------\u001b[0m",
            "\u001b[0;31mNameError\u001b[0m                                 Traceback (most recent call last)",
            "\u001b[0;32m<ipython-input-1-2c02c9c00510>\u001b[0m in \u001b[0;36m<cell line: 15>\u001b[0;34m()\u001b[0m\n\u001b[1;32m     13\u001b[0m \u001b[0mmodels\u001b[0m \u001b[0;34m=\u001b[0m \u001b[0;34m[\u001b[0m\u001b[0;34m'Logistic Regression'\u001b[0m\u001b[0;34m,\u001b[0m \u001b[0;34m'K-Nearest Neighbors'\u001b[0m\u001b[0;34m,\u001b[0m \u001b[0;34m'SVM (Linear)'\u001b[0m\u001b[0;34m,\u001b[0m \u001b[0;34m'SVM (RBF)'\u001b[0m\u001b[0;34m,\u001b[0m \u001b[0;34m'Random Forest'\u001b[0m\u001b[0;34m,\u001b[0m \u001b[0;34m'XGBoost'\u001b[0m\u001b[0;34m,\u001b[0m \u001b[0;34m'Decision Tree'\u001b[0m\u001b[0;34m,\u001b[0m \u001b[0;34m'CNN'\u001b[0m\u001b[0;34m]\u001b[0m\u001b[0;34m\u001b[0m\u001b[0;34m\u001b[0m\u001b[0m\n\u001b[1;32m     14\u001b[0m \u001b[0;34m\u001b[0m\u001b[0m\n\u001b[0;32m---> 15\u001b[0;31m \u001b[0;32mfor\u001b[0m \u001b[0mi\u001b[0m\u001b[0;34m,\u001b[0m \u001b[0mmodel\u001b[0m \u001b[0;32min\u001b[0m \u001b[0menumerate\u001b[0m\u001b[0;34m(\u001b[0m\u001b[0;34m[\u001b[0m\u001b[0mgscv_lor\u001b[0m\u001b[0;34m,\u001b[0m \u001b[0mgscv_knn\u001b[0m\u001b[0;34m,\u001b[0m \u001b[0mgscv_svm_linear\u001b[0m\u001b[0;34m,\u001b[0m \u001b[0mgscv_svm_rbf\u001b[0m\u001b[0;34m,\u001b[0m \u001b[0mclf_rf\u001b[0m\u001b[0;34m,\u001b[0m \u001b[0mclf_xgb\u001b[0m\u001b[0;34m,\u001b[0m \u001b[0mclf_dt\u001b[0m\u001b[0;34m,\u001b[0m \u001b[0mmodel\u001b[0m\u001b[0;34m]\u001b[0m\u001b[0;34m)\u001b[0m\u001b[0;34m:\u001b[0m\u001b[0;34m\u001b[0m\u001b[0;34m\u001b[0m\u001b[0m\n\u001b[0m\u001b[1;32m     16\u001b[0m     \u001b[0;32mif\u001b[0m \u001b[0mi\u001b[0m \u001b[0;34m<\u001b[0m \u001b[0;36m7\u001b[0m\u001b[0;34m:\u001b[0m\u001b[0;34m\u001b[0m\u001b[0;34m\u001b[0m\u001b[0m\n\u001b[1;32m     17\u001b[0m         \u001b[0my_pred\u001b[0m \u001b[0;34m=\u001b[0m \u001b[0mmodel\u001b[0m\u001b[0;34m.\u001b[0m\u001b[0mpredict\u001b[0m\u001b[0;34m(\u001b[0m\u001b[0mfeatures\u001b[0m\u001b[0;34m)\u001b[0m\u001b[0;34m\u001b[0m\u001b[0;34m\u001b[0m\u001b[0m\n",
            "\u001b[0;31mNameError\u001b[0m: name 'gscv_lor' is not defined"
          ]
        }
      ]
    }
  ],
  "metadata": {
    "colab": {
      "provenance": []
    },
    "kernelspec": {
      "display_name": "Python 3",
      "name": "python3"
    },
    "language_info": {
      "name": "python"
    },
    "widgets": {
      "application/vnd.jupyter.widget-state+json": {
        "0cebe27221bd4d32b09dc662f9ab4156": {
          "model_module": "@jupyter-widgets/controls",
          "model_name": "HBoxModel",
          "model_module_version": "1.5.0",
          "state": {
            "_dom_classes": [],
            "_model_module": "@jupyter-widgets/controls",
            "_model_module_version": "1.5.0",
            "_model_name": "HBoxModel",
            "_view_count": null,
            "_view_module": "@jupyter-widgets/controls",
            "_view_module_version": "1.5.0",
            "_view_name": "HBoxView",
            "box_style": "",
            "children": [
              "IPY_MODEL_37b4db741ffd48658f49458737e2e579",
              "IPY_MODEL_46aa90f4581e4c75a5ef47a78a5a7aaa",
              "IPY_MODEL_342f2cfb75714d1ba13a794daf8d8374"
            ],
            "layout": "IPY_MODEL_86e8ba2dcd12458cada0709b15ff5a51"
          }
        },
        "37b4db741ffd48658f49458737e2e579": {
          "model_module": "@jupyter-widgets/controls",
          "model_name": "HTMLModel",
          "model_module_version": "1.5.0",
          "state": {
            "_dom_classes": [],
            "_model_module": "@jupyter-widgets/controls",
            "_model_module_version": "1.5.0",
            "_model_name": "HTMLModel",
            "_view_count": null,
            "_view_module": "@jupyter-widgets/controls",
            "_view_module_version": "1.5.0",
            "_view_name": "HTMLView",
            "description": "",
            "description_tooltip": null,
            "layout": "IPY_MODEL_8bb25f843f834bbfac44f8e74e9e6cb8",
            "placeholder": "​",
            "style": "IPY_MODEL_b1f134e8224d4631b6fd4952e06a7200",
            "value": "100%"
          }
        },
        "46aa90f4581e4c75a5ef47a78a5a7aaa": {
          "model_module": "@jupyter-widgets/controls",
          "model_name": "FloatProgressModel",
          "model_module_version": "1.5.0",
          "state": {
            "_dom_classes": [],
            "_model_module": "@jupyter-widgets/controls",
            "_model_module_version": "1.5.0",
            "_model_name": "FloatProgressModel",
            "_view_count": null,
            "_view_module": "@jupyter-widgets/controls",
            "_view_module_version": "1.5.0",
            "_view_name": "ProgressView",
            "bar_style": "success",
            "description": "",
            "description_tooltip": null,
            "layout": "IPY_MODEL_2d265eb6a9b44ab5bc102aefae9e0df1",
            "max": 7201,
            "min": 0,
            "orientation": "horizontal",
            "style": "IPY_MODEL_68259cc0aa894aef9209bc6ef069e515",
            "value": 7201
          }
        },
        "342f2cfb75714d1ba13a794daf8d8374": {
          "model_module": "@jupyter-widgets/controls",
          "model_name": "HTMLModel",
          "model_module_version": "1.5.0",
          "state": {
            "_dom_classes": [],
            "_model_module": "@jupyter-widgets/controls",
            "_model_module_version": "1.5.0",
            "_model_name": "HTMLModel",
            "_view_count": null,
            "_view_module": "@jupyter-widgets/controls",
            "_view_module_version": "1.5.0",
            "_view_name": "HTMLView",
            "description": "",
            "description_tooltip": null,
            "layout": "IPY_MODEL_7121ee2603494df5b224e4ab51dfd97b",
            "placeholder": "​",
            "style": "IPY_MODEL_3cd2a1ca3f694e81a5f290e7b653be7a",
            "value": " 7201/7201 [00:45&lt;00:00, 240.02it/s]"
          }
        },
        "86e8ba2dcd12458cada0709b15ff5a51": {
          "model_module": "@jupyter-widgets/base",
          "model_name": "LayoutModel",
          "model_module_version": "1.2.0",
          "state": {
            "_model_module": "@jupyter-widgets/base",
            "_model_module_version": "1.2.0",
            "_model_name": "LayoutModel",
            "_view_count": null,
            "_view_module": "@jupyter-widgets/base",
            "_view_module_version": "1.2.0",
            "_view_name": "LayoutView",
            "align_content": null,
            "align_items": null,
            "align_self": null,
            "border": null,
            "bottom": null,
            "display": null,
            "flex": null,
            "flex_flow": null,
            "grid_area": null,
            "grid_auto_columns": null,
            "grid_auto_flow": null,
            "grid_auto_rows": null,
            "grid_column": null,
            "grid_gap": null,
            "grid_row": null,
            "grid_template_areas": null,
            "grid_template_columns": null,
            "grid_template_rows": null,
            "height": null,
            "justify_content": null,
            "justify_items": null,
            "left": null,
            "margin": null,
            "max_height": null,
            "max_width": null,
            "min_height": null,
            "min_width": null,
            "object_fit": null,
            "object_position": null,
            "order": null,
            "overflow": null,
            "overflow_x": null,
            "overflow_y": null,
            "padding": null,
            "right": null,
            "top": null,
            "visibility": null,
            "width": null
          }
        },
        "8bb25f843f834bbfac44f8e74e9e6cb8": {
          "model_module": "@jupyter-widgets/base",
          "model_name": "LayoutModel",
          "model_module_version": "1.2.0",
          "state": {
            "_model_module": "@jupyter-widgets/base",
            "_model_module_version": "1.2.0",
            "_model_name": "LayoutModel",
            "_view_count": null,
            "_view_module": "@jupyter-widgets/base",
            "_view_module_version": "1.2.0",
            "_view_name": "LayoutView",
            "align_content": null,
            "align_items": null,
            "align_self": null,
            "border": null,
            "bottom": null,
            "display": null,
            "flex": null,
            "flex_flow": null,
            "grid_area": null,
            "grid_auto_columns": null,
            "grid_auto_flow": null,
            "grid_auto_rows": null,
            "grid_column": null,
            "grid_gap": null,
            "grid_row": null,
            "grid_template_areas": null,
            "grid_template_columns": null,
            "grid_template_rows": null,
            "height": null,
            "justify_content": null,
            "justify_items": null,
            "left": null,
            "margin": null,
            "max_height": null,
            "max_width": null,
            "min_height": null,
            "min_width": null,
            "object_fit": null,
            "object_position": null,
            "order": null,
            "overflow": null,
            "overflow_x": null,
            "overflow_y": null,
            "padding": null,
            "right": null,
            "top": null,
            "visibility": null,
            "width": null
          }
        },
        "b1f134e8224d4631b6fd4952e06a7200": {
          "model_module": "@jupyter-widgets/controls",
          "model_name": "DescriptionStyleModel",
          "model_module_version": "1.5.0",
          "state": {
            "_model_module": "@jupyter-widgets/controls",
            "_model_module_version": "1.5.0",
            "_model_name": "DescriptionStyleModel",
            "_view_count": null,
            "_view_module": "@jupyter-widgets/base",
            "_view_module_version": "1.2.0",
            "_view_name": "StyleView",
            "description_width": ""
          }
        },
        "2d265eb6a9b44ab5bc102aefae9e0df1": {
          "model_module": "@jupyter-widgets/base",
          "model_name": "LayoutModel",
          "model_module_version": "1.2.0",
          "state": {
            "_model_module": "@jupyter-widgets/base",
            "_model_module_version": "1.2.0",
            "_model_name": "LayoutModel",
            "_view_count": null,
            "_view_module": "@jupyter-widgets/base",
            "_view_module_version": "1.2.0",
            "_view_name": "LayoutView",
            "align_content": null,
            "align_items": null,
            "align_self": null,
            "border": null,
            "bottom": null,
            "display": null,
            "flex": null,
            "flex_flow": null,
            "grid_area": null,
            "grid_auto_columns": null,
            "grid_auto_flow": null,
            "grid_auto_rows": null,
            "grid_column": null,
            "grid_gap": null,
            "grid_row": null,
            "grid_template_areas": null,
            "grid_template_columns": null,
            "grid_template_rows": null,
            "height": null,
            "justify_content": null,
            "justify_items": null,
            "left": null,
            "margin": null,
            "max_height": null,
            "max_width": null,
            "min_height": null,
            "min_width": null,
            "object_fit": null,
            "object_position": null,
            "order": null,
            "overflow": null,
            "overflow_x": null,
            "overflow_y": null,
            "padding": null,
            "right": null,
            "top": null,
            "visibility": null,
            "width": null
          }
        },
        "68259cc0aa894aef9209bc6ef069e515": {
          "model_module": "@jupyter-widgets/controls",
          "model_name": "ProgressStyleModel",
          "model_module_version": "1.5.0",
          "state": {
            "_model_module": "@jupyter-widgets/controls",
            "_model_module_version": "1.5.0",
            "_model_name": "ProgressStyleModel",
            "_view_count": null,
            "_view_module": "@jupyter-widgets/base",
            "_view_module_version": "1.2.0",
            "_view_name": "StyleView",
            "bar_color": null,
            "description_width": ""
          }
        },
        "7121ee2603494df5b224e4ab51dfd97b": {
          "model_module": "@jupyter-widgets/base",
          "model_name": "LayoutModel",
          "model_module_version": "1.2.0",
          "state": {
            "_model_module": "@jupyter-widgets/base",
            "_model_module_version": "1.2.0",
            "_model_name": "LayoutModel",
            "_view_count": null,
            "_view_module": "@jupyter-widgets/base",
            "_view_module_version": "1.2.0",
            "_view_name": "LayoutView",
            "align_content": null,
            "align_items": null,
            "align_self": null,
            "border": null,
            "bottom": null,
            "display": null,
            "flex": null,
            "flex_flow": null,
            "grid_area": null,
            "grid_auto_columns": null,
            "grid_auto_flow": null,
            "grid_auto_rows": null,
            "grid_column": null,
            "grid_gap": null,
            "grid_row": null,
            "grid_template_areas": null,
            "grid_template_columns": null,
            "grid_template_rows": null,
            "height": null,
            "justify_content": null,
            "justify_items": null,
            "left": null,
            "margin": null,
            "max_height": null,
            "max_width": null,
            "min_height": null,
            "min_width": null,
            "object_fit": null,
            "object_position": null,
            "order": null,
            "overflow": null,
            "overflow_x": null,
            "overflow_y": null,
            "padding": null,
            "right": null,
            "top": null,
            "visibility": null,
            "width": null
          }
        },
        "3cd2a1ca3f694e81a5f290e7b653be7a": {
          "model_module": "@jupyter-widgets/controls",
          "model_name": "DescriptionStyleModel",
          "model_module_version": "1.5.0",
          "state": {
            "_model_module": "@jupyter-widgets/controls",
            "_model_module_version": "1.5.0",
            "_model_name": "DescriptionStyleModel",
            "_view_count": null,
            "_view_module": "@jupyter-widgets/base",
            "_view_module_version": "1.2.0",
            "_view_name": "StyleView",
            "description_width": ""
          }
        }
      }
    }
  },
  "nbformat": 4,
  "nbformat_minor": 0
}